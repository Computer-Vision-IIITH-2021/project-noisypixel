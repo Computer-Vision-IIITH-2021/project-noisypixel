{
 "cells": [
  {
   "cell_type": "code",
   "execution_count": 1,
   "id": "c5b6a83d",
   "metadata": {},
   "outputs": [],
   "source": [
    "import sys\n",
    "sys.path.append(\"/home2/sdokania/all_projects/project-noisypixel/\")"
   ]
  },
  {
   "cell_type": "code",
   "execution_count": 2,
   "id": "b0ad72bb",
   "metadata": {},
   "outputs": [],
   "source": [
    "import os\n",
    "import glob\n",
    "import cv2\n",
    "import random\n",
    "import pandas as pd\n",
    "from skimage import io\n",
    "import numpy as np\n",
    "from PIL import Image\n",
    "from torch.utils.data import Dataset, DataLoader\n",
    "from torchvision import transforms, utils\n",
    "import h5py\n",
    "\n",
    "# Network building stuff\n",
    "import torch\n",
    "import torch.nn as nn\n",
    "import torch.nn.functional as F\n",
    "\n",
    "import pytorch_lightning as pl\n",
    "from pytorch_lightning.loggers import TensorBoardLogger\n",
    "import torchmetrics\n",
    "import torch.distributions as dist\n",
    "\n",
    "\n",
    "#mesh\n",
    "from src.utils.libmise.mise import  MISE\n",
    "from src.utils.libmcubes.mcubes import marching_cubes\n",
    "import trimesh\n",
    "from src.evaluate import *"
   ]
  },
  {
   "cell_type": "code",
   "execution_count": 3,
   "id": "3a7ccf46",
   "metadata": {},
   "outputs": [],
   "source": [
    "import seaborn as sns\n",
    "import matplotlib.pyplot as plt\n",
    "%matplotlib inline"
   ]
  },
  {
   "cell_type": "code",
   "execution_count": 4,
   "id": "01cc0b62",
   "metadata": {},
   "outputs": [],
   "source": [
    "DEVICE=\"cuda:0\""
   ]
  },
  {
   "cell_type": "code",
   "execution_count": 5,
   "id": "df8b3caa",
   "metadata": {},
   "outputs": [],
   "source": [
    "from src.models import *\n",
    "from src.dataset.dataloader import OccupancyNetDatasetHDF\n",
    "from src.trainer import ONetLit\n",
    "from src.utils import Config, count_parameters"
   ]
  },
  {
   "cell_type": "code",
   "execution_count": 6,
   "id": "c916cceb",
   "metadata": {},
   "outputs": [
    {
     "name": "stdout",
     "output_type": "stream",
     "text": [
      "Setting sexperiment path as : /home2/sdokania/all_projects/occ_artifacts/initial\n",
      "Setting sexperiment path as : ../occ_artifacts/mesh_exp\n"
     ]
    }
   ],
   "source": [
    "config = Config()\n",
    "config.data_root = \"/ssd_scratch/cvit/sdokania/processed_data/hdf_data/\"\n",
    "config.batch_size = 32\n",
    "config.output_dir = '../occ_artifacts/'\n",
    "config.exp_name = 'mesh_exp'\n",
    "# config.encoder = \"resnet-18\"\n",
    "# config.decoder = \"decoder-cbn\"\n",
    "# config.c_dim = 256\n",
    "\n",
    "config.encoder = \"efficientnet-b0\"\n",
    "config.decoder = \"decoder-cbn\"\n",
    "# config.c_dim = 256"
   ]
  },
  {
   "cell_type": "code",
   "execution_count": 7,
   "id": "5e1abd90",
   "metadata": {},
   "outputs": [
    {
     "data": {
      "text/plain": [
       "{'c_dim': 128,\n",
       " 'h_dim': 128,\n",
       " 'p_dim': 3,\n",
       " 'data_root': '/ssd_scratch/cvit/sdokania/processed_data/hdf_data/',\n",
       " 'batch_size': 32,\n",
       " 'output_dir': '../occ_artifacts/',\n",
       " '_exp_name': 'mesh_exp',\n",
       " 'encoder': 'efficientnet-b0',\n",
       " 'decoder': 'decoder-cbn',\n",
       " 'lr': 0.0003,\n",
       " 'exp_path': '../occ_artifacts/mesh_exp'}"
      ]
     },
     "execution_count": 7,
     "metadata": {},
     "output_type": "execute_result"
    }
   ],
   "source": [
    "vars(config)"
   ]
  },
  {
   "cell_type": "code",
   "execution_count": 8,
   "id": "6c9ee280",
   "metadata": {},
   "outputs": [
    {
     "name": "stdout",
     "output_type": "stream",
     "text": [
      "Loaded pretrained weights for efficientnet-b0\n"
     ]
    }
   ],
   "source": [
    "onet = ONetLit(config)"
   ]
  },
  {
   "cell_type": "code",
   "execution_count": 9,
   "id": "5f225bfd",
   "metadata": {},
   "outputs": [
    {
     "name": "stdout",
     "output_type": "stream",
     "text": [
      "Loaded pretrained weights for efficientnet-b0\n"
     ]
    }
   ],
   "source": [
    "net = ONetLit.load_from_checkpoint(\"../occ_artifacts/efficient_cbn_bs_64_full_data/lightning_logs/version_1/checkpoints/epoch=131-step=63359.ckpt\", cfg=config).eval()\n",
    "# net = ONetLit.load_from_checkpoint(\"../occ_artifacts/resnet50_fc_bs_64_full_data_balanced/lightning_logs/version_1/checkpoints/epoch=157-step=75770.ckpt\", cfg=config).eval()\n",
    "# net = ONetLit.load_from_checkpoint(\"../occ_artifacts/efficient_fcdecoder_bs_64_full_data/lightning_logs/version_1/checkpoints/epoch=129-step=62399.ckpt\", cfg=config)\n",
    "\n",
    "# net = ONetLit.load_from_checkpoint(\"../occ_artifacts/resnet18_cbn_bs_256_sub_data_balanced/lightning_logs/version_1/checkpoints/epoch=95-step=2495.ckpt\", cfg=config).eval()"
   ]
  },
  {
   "cell_type": "code",
   "execution_count": 10,
   "id": "e3c6f8a7",
   "metadata": {},
   "outputs": [
    {
     "name": "stdout",
     "output_type": "stream",
     "text": [
      "8751\n"
     ]
    }
   ],
   "source": [
    "dataset = OccupancyNetDatasetHDF(config.data_root, num_points=2048, mode=\"test\", point_cloud=True)\n",
    "print(len(dataset))"
   ]
  },
  {
   "cell_type": "code",
   "execution_count": 57,
   "id": "b7260344",
   "metadata": {},
   "outputs": [],
   "source": [
    "# mesh, mesh_data = get_mesh(dataset[0][:-1], return_points=True)\n",
    "\n",
    "\n",
    "mesh_out_file = os.path.join('./', '%s.off' % 'onet')\n",
    "opf = mesh.export(mesh_out_file)"
   ]
  },
  {
   "cell_type": "code",
   "execution_count": 12,
   "id": "050a2909-4e38-4322-8fa0-3e7e23a6de5d",
   "metadata": {},
   "outputs": [],
   "source": [
    "empty_point_dict = {\n",
    "    'completeness': np.sqrt(3),\n",
    "    'accuracy': np.sqrt(3),\n",
    "    'completeness2': 3,\n",
    "    'accuracy2': 3,\n",
    "    'chamfer': 6,\n",
    "}\n",
    "\n",
    "empty_normal_dict = {\n",
    "    'normals completeness': -1.,\n",
    "    'normals accuracy': -1.,\n",
    "    'normals': -1.,\n",
    "}"
   ]
  },
  {
   "cell_type": "code",
   "execution_count": 13,
   "id": "2cf2a681-620d-48d8-8b51-b97197577f99",
   "metadata": {},
   "outputs": [],
   "source": [
    "import datetime\n",
    "import tqdm\n",
    "import torch.distributions as dist\n",
    "import pandas as pd"
   ]
  },
  {
   "cell_type": "code",
   "execution_count": 14,
   "id": "809aef5f-6756-4e10-9ec8-da630adb4d6f",
   "metadata": {},
   "outputs": [
    {
     "name": "stderr",
     "output_type": "stream",
     "text": [
      "<ipython-input-14-04e9a6fd1342>:8: TqdmDeprecationWarning: This function will be removed in tqdm==5.0.0\n",
      "Please use `tqdm.notebook.tqdm` instead of `tqdm.tqdm_notebook`\n",
      "  for ix in tqdm.tqdm_notebook(shuffled_idx):\n"
     ]
    },
    {
     "data": {
      "application/vnd.jupyter.widget-view+json": {
       "model_id": "63f2f088f92b4519ac5d8c7c858e88a6",
       "version_major": 2,
       "version_minor": 0
      },
      "text/plain": [
       "  0%|          | 0/500 [00:00<?, ?it/s]"
      ]
     },
     "metadata": {},
     "output_type": "display_data"
    },
    {
     "name": "stderr",
     "output_type": "stream",
     "text": [
      "/home2/sdokania/all_projects/project-noisypixel/src/evaluate.py:176: RuntimeWarning: invalid value encountered in float_scalars\n",
      "  iou = (area_intersect / area_union)\n"
     ]
    },
    {
     "name": "stdout",
     "output_type": "stream",
     "text": [
      "0:05:27.488375\n"
     ]
    }
   ],
   "source": [
    "DEVICE=\"cuda:0\"\n",
    "nux = 0\n",
    "start = datetime.datetime.now()\n",
    "result = []\n",
    "\n",
    "shuffled_idx = np.random.permutation(np.arange(len(dataset)))[:500]\n",
    "\n",
    "for ix in tqdm.tqdm_notebook(shuffled_idx):\n",
    "    try:\n",
    "        test_img, test_pts, test_gt, pcl_gt, norm_gt = dataset[ix][:]\n",
    "        net.to(DEVICE)\n",
    "        pred_pts = net(test_img.unsqueeze(0).to(DEVICE), test_pts.unsqueeze(0).to(DEVICE)).cpu()\n",
    "        mesh, mesh_data, normals = get_mesh(net, (test_img.to(DEVICE), test_pts, test_gt), threshold_g=0.5, return_points=True)\n",
    "        pred_occ = dist.Bernoulli(logits=pred_pts).probs.data.numpy().squeeze()\n",
    "        result.append(eval_pointcloud(mesh_data[0], pcl_gt, normals, norm_gt, pred_occ, test_gt))\n",
    "    except:\n",
    "        pass\n",
    "print(datetime.datetime.now() - start)"
   ]
  },
  {
   "cell_type": "code",
   "execution_count": 25,
   "id": "6f30d119-59e1-4467-b04b-31ecc199c298",
   "metadata": {},
   "outputs": [],
   "source": []
  },
  {
   "cell_type": "code",
   "execution_count": 16,
   "id": "7e2657dc-afdb-4754-93fc-fa168c93bb90",
   "metadata": {},
   "outputs": [],
   "source": [
    "df = pd.DataFrame(result)"
   ]
  },
  {
   "cell_type": "code",
   "execution_count": 17,
   "id": "40413d7b-e4ea-4db3-95af-24194711c804",
   "metadata": {},
   "outputs": [
    {
     "data": {
      "text/plain": [
       "completeness            0.044821\n",
       "accuracy                0.014899\n",
       "normals completeness    0.791572\n",
       "normals accuracy        0.845882\n",
       "normals                 0.818727\n",
       "completeness_sq         0.012449\n",
       "accuracy_sq             0.000685\n",
       "chamfer-L2              0.006567\n",
       "chamfer-L1              0.029860\n",
       "iou                     0.544649\n",
       "dtype: float64"
      ]
     },
     "execution_count": 17,
     "metadata": {},
     "output_type": "execute_result"
    }
   ],
   "source": [
    "df.mean()"
   ]
  },
  {
   "cell_type": "code",
   "execution_count": 29,
   "id": "41309c7b-2109-401d-b144-69422a312a74",
   "metadata": {},
   "outputs": [
    {
     "data": {
      "text/plain": [
       "'../occ_artifacts/mesh_exp'"
      ]
     },
     "execution_count": 29,
     "metadata": {},
     "output_type": "execute_result"
    }
   ],
   "source": [
    "os.path.join(config.exp_path, "
   ]
  },
  {
   "cell_type": "code",
   "execution_count": 15,
   "id": "e1764b6c-ce89-4273-81d1-94da77b102c5",
   "metadata": {},
   "outputs": [],
   "source": []
  },
  {
   "cell_type": "code",
   "execution_count": null,
   "id": "90679733-5df4-440a-82f3-d8b0ab74c775",
   "metadata": {},
   "outputs": [],
   "source": []
  },
  {
   "cell_type": "code",
   "execution_count": null,
   "id": "4e614ed4-823b-4b63-84f9-308eddb1620d",
   "metadata": {},
   "outputs": [],
   "source": []
  },
  {
   "cell_type": "code",
   "execution_count": null,
   "id": "5288c688-0400-42e5-8fb7-28dcf06c6c3d",
   "metadata": {},
   "outputs": [],
   "source": []
  }
 ],
 "metadata": {
  "kernelspec": {
   "display_name": "Python 3",
   "language": "python",
   "name": "python3"
  },
  "language_info": {
   "codemirror_mode": {
    "name": "ipython",
    "version": 3
   },
   "file_extension": ".py",
   "mimetype": "text/x-python",
   "name": "python",
   "nbconvert_exporter": "python",
   "pygments_lexer": "ipython3",
   "version": "3.8.3"
  }
 },
 "nbformat": 4,
 "nbformat_minor": 5
}
