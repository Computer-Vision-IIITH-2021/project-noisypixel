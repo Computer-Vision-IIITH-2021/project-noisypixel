{
 "cells": [
  {
   "cell_type": "code",
   "execution_count": 6,
   "id": "c5b6a83d",
   "metadata": {},
   "outputs": [],
   "source": [
    "import sys\n",
    "sys.path.append(\"/home2/sdokania/all_projects/project-noisypixel/\")"
   ]
  },
  {
   "cell_type": "code",
   "execution_count": 7,
   "id": "b0ad72bb",
   "metadata": {},
   "outputs": [],
   "source": [
    "import os\n",
    "import glob\n",
    "import cv2\n",
    "import random\n",
    "import pandas as pd\n",
    "from skimage import io\n",
    "import numpy as np\n",
    "from PIL import Image\n",
    "from torch.utils.data import Dataset, DataLoader\n",
    "from torchvision import transforms, utils\n",
    "import h5py\n",
    "\n",
    "# Network building stuff\n",
    "import torch\n",
    "import torch.nn as nn\n",
    "import torch.nn.functional as F\n",
    "\n",
    "import pytorch_lightning as pl\n",
    "from pytorch_lightning.loggers import TensorBoardLogger\n",
    "import torchmetrics\n",
    "import torch.distributions as dist\n",
    "\n",
    "\n",
    "#mesh\n",
    "from src.utils.libmise.mise import  MISE\n",
    "from src.utils.libmcubes.mcubes import marching_cubes\n",
    "import trimesh"
   ]
  },
  {
   "cell_type": "code",
   "execution_count": 26,
   "id": "3a7ccf46",
   "metadata": {},
   "outputs": [],
   "source": [
    "import seaborn as sns\n",
    "import matplotlib.pyplot as plt\n",
    "%matplotlib inline"
   ]
  },
  {
   "cell_type": "code",
   "execution_count": null,
   "id": "7eb89ce8",
   "metadata": {},
   "outputs": [],
   "source": []
  },
  {
   "cell_type": "code",
   "execution_count": null,
   "id": "b29d33fe",
   "metadata": {},
   "outputs": [],
   "source": []
  },
  {
   "cell_type": "code",
   "execution_count": null,
   "id": "01cc0b62",
   "metadata": {},
   "outputs": [],
   "source": []
  },
  {
   "cell_type": "code",
   "execution_count": 8,
   "id": "df8b3caa",
   "metadata": {},
   "outputs": [],
   "source": [
    "from src.models import *\n",
    "from src.dataset.dataloader import OccupancyNetDatasetHDF\n",
    "from src.trainer import ONetLit\n",
    "from src.utils import Config, count_parameters"
   ]
  },
  {
   "cell_type": "code",
   "execution_count": 208,
   "id": "c916cceb",
   "metadata": {},
   "outputs": [
    {
     "name": "stdout",
     "output_type": "stream",
     "text": [
      "Setting sexperiment path as : /home2/sdokania/all_projects/occ_artifacts/initial\n",
      "Setting sexperiment path as : ../occ_artifacts/mesh_exp\n"
     ]
    }
   ],
   "source": [
    "config = Config()\n",
    "config.data_root = \"/ssd_scratch/cvit/sdokania/processed_data/hdf_data/\"\n",
    "config.batch_size = 32\n",
    "config.output_dir = '../occ_artifacts/'\n",
    "config.exp_name = 'mesh_exp'\n",
    "config.encoder = \"resnet-50\"\n",
    "config.decoder = \"decoder-fc\""
   ]
  },
  {
   "cell_type": "code",
   "execution_count": 209,
   "id": "5e1abd90",
   "metadata": {},
   "outputs": [
    {
     "data": {
      "text/plain": [
       "{'c_dim': 128,\n",
       " 'h_dim': 128,\n",
       " 'p_dim': 3,\n",
       " 'data_root': '/ssd_scratch/cvit/sdokania/processed_data/hdf_data/',\n",
       " 'batch_size': 32,\n",
       " 'output_dir': '../occ_artifacts/',\n",
       " '_exp_name': 'mesh_exp',\n",
       " 'encoder': 'resnet-50',\n",
       " 'decoder': 'decoder-fc',\n",
       " 'lr': 0.0003,\n",
       " 'exp_path': '../occ_artifacts/mesh_exp'}"
      ]
     },
     "execution_count": 209,
     "metadata": {},
     "output_type": "execute_result"
    }
   ],
   "source": [
    "vars(config)"
   ]
  },
  {
   "cell_type": "code",
   "execution_count": 210,
   "id": "6c9ee280",
   "metadata": {},
   "outputs": [],
   "source": [
    "onet = ONetLit(config)"
   ]
  },
  {
   "cell_type": "code",
   "execution_count": 226,
   "id": "5f225bfd",
   "metadata": {},
   "outputs": [],
   "source": [
    "# net = ONetLit.load_from_checkpoint(\"../occ_artifacts/efficient_cbn_bs_64_full_data/lightning_logs/version_1/checkpoints/epoch=103-step=49919.ckpt\", cfg=config)\n",
    "net = ONetLit.load_from_checkpoint(\"../occ_artifacts/resnet50_fc_bs_64_full_data/lightning_logs/version_1/checkpoints/epoch=3-step=1919.ckpt\", cfg=config)"
   ]
  },
  {
   "cell_type": "code",
   "execution_count": 227,
   "id": "e3c6f8a7",
   "metadata": {},
   "outputs": [],
   "source": [
    "dataset = OccupancyNetDatasetHDF(config.data_root, num_points=2048)"
   ]
  },
  {
   "cell_type": "code",
   "execution_count": null,
   "id": "4b1e1140",
   "metadata": {},
   "outputs": [],
   "source": []
  },
  {
   "cell_type": "code",
   "execution_count": 228,
   "id": "f83704e3",
   "metadata": {},
   "outputs": [],
   "source": [
    "def make_3d_grid(bb_min, bb_max, shape):\n",
    "    ''' Makes a 3D grid.\n",
    "    Args:\n",
    "        bb_min (tuple): bounding box minimum\n",
    "        bb_max (tuple): bounding box maximum\n",
    "        shape (tuple): output shape\n",
    "    '''\n",
    "    size = shape[0] * shape[1] * shape[2]\n",
    "\n",
    "    pxs = torch.linspace(bb_min[0], bb_max[0], shape[0])\n",
    "    pys = torch.linspace(bb_min[1], bb_max[1], shape[1])\n",
    "    pzs = torch.linspace(bb_min[2], bb_max[2], shape[2])\n",
    "\n",
    "    pxs = pxs.view(-1, 1, 1).expand(*shape).contiguous().view(size)\n",
    "    pys = pys.view(1, -1, 1).expand(*shape).contiguous().view(size)\n",
    "    pzs = pzs.view(1, 1, -1).expand(*shape).contiguous().view(size)\n",
    "    p = torch.stack([pxs, pys, pzs], dim=1)\n",
    "\n",
    "    return p"
   ]
  },
  {
   "cell_type": "code",
   "execution_count": 229,
   "id": "78794def",
   "metadata": {},
   "outputs": [],
   "source": [
    "def eval_points(p, c, points_batch_size=100000):\n",
    "    \"\"\"\n",
    "    \"\"\"\n",
    "    p_split = torch.split(p, points_batch_size)\n",
    "    # print(len(p_split))\n",
    "    occ_hats = []\n",
    "\n",
    "    for pi in p_split:\n",
    "        pi = pi.unsqueeze(0) \n",
    "        with torch.no_grad():\n",
    "            occ_hat = net.net.decoder(pi, c) \n",
    "            \n",
    "\n",
    "        occ_hats.append(occ_hat.squeeze(0).detach().cpu())\n",
    "\n",
    "    occ_hat = torch.cat(occ_hats, dim=0)\n",
    "\n",
    "    return occ_hat"
   ]
  },
  {
   "cell_type": "code",
   "execution_count": 230,
   "id": "5ca40014",
   "metadata": {},
   "outputs": [],
   "source": [
    "def extract_mesh(occ_hat,padding = 0.1,threshold_g = 0.2):\n",
    "    n_x, n_y, n_z = occ_hat.shape\n",
    "    box_size = 1 + padding\n",
    "    threshold = np.log( threshold_g) - np.log(1. - threshold_g)\n",
    "    \n",
    "    occ_hat_padded = np.pad(occ_hat, 1, 'constant', constant_values=-1e6)\n",
    "    print(threshold,occ_hat_padded.shape, np.min(occ_hat_padded), np.max(occ_hat_padded))\n",
    "    vertices, triangles = marching_cubes(occ_hat_padded, threshold)\n",
    "  \n",
    "    vertices -= 0.5\n",
    "    # Undo padding\n",
    "    vertices -= 1\n",
    "    # Normalize to bounding box\n",
    "    vertices /= np.array([n_x-1, n_y-1, n_z-1])\n",
    "    vertices = box_size * (vertices - 0.5)\n",
    "    \n",
    "    normals = None\n",
    "\n",
    "    # Create mesh\n",
    "    mesh = trimesh.Trimesh(vertices, triangles, vertex_normals=normals,process=False)\n",
    "\n",
    "    return mesh"
   ]
  },
  {
   "cell_type": "code",
   "execution_count": 231,
   "id": "ce46bb35",
   "metadata": {},
   "outputs": [],
   "source": [
    "def get_mesh(dataset, padding=0.01, resolution0=32, upsampling_steps=2, threshold_g=0.2):\n",
    "    # Get the image, points, and the ground truth\n",
    "    test_img, test_pts, test_gt = dataset[10]\n",
    "    \n",
    "    # Get the threshold and the box padding\n",
    "    threshold = np.log( threshold_g) - np.log(1. - threshold_g)\n",
    "    box_size = 1 +  padding\n",
    "    nx = 32\n",
    "    pointsf = 2 * make_3d_grid((-0.5,)*3, (0.5,)*3, (nx,)*3    )\n",
    "    c = net.net.encoder(test_img.unsqueeze(0))#.detach()\n",
    "    \n",
    "    if(upsampling_steps==0):\n",
    "     \n",
    "        values = eval_points(pointsf,c ).cpu().numpy()\n",
    "        value_grid = values.reshape(nx, nx, nx)\n",
    "\n",
    "    else:\n",
    "        mesh_extractor = MISE(resolution0, upsampling_steps, threshold)\n",
    "        points = mesh_extractor.query()\n",
    " \n",
    "\n",
    "        while points.shape[0] != 0:\n",
    "            # Query points\n",
    "            pointsf = torch.FloatTensor(points) \n",
    "            # Normalize to bounding box\n",
    "            pointsf = pointsf / mesh_extractor.resolution\n",
    "            pointsf = box_size * (pointsf - 0.5)\n",
    "            # Evaluate model and update\n",
    "            print(pointsf.shape, c.shape)\n",
    "            values = eval_points( pointsf, c).cpu().numpy()\n",
    "\n",
    "\n",
    "            values = values.astype(np.float64)\n",
    "\n",
    "            mesh_extractor.update(points, values)\n",
    "            points = mesh_extractor.query()\n",
    "\n",
    "\n",
    "        value_grid = mesh_extractor.to_dense()\n",
    "\n",
    "     \n",
    "    mesh = extract_mesh(value_grid )\n",
    "    \n",
    "    return mesh"
   ]
  },
  {
   "cell_type": "code",
   "execution_count": 232,
   "id": "b7260344",
   "metadata": {},
   "outputs": [],
   "source": [
    "# mesh = get_mesh(dataset)\n",
    "\n",
    "\n",
    "# mesh_out_file = os.path.join('./', '%s.off' % 'onet')\n",
    "# mesh.export(mesh_out_file)"
   ]
  },
  {
   "cell_type": "code",
   "execution_count": 233,
   "id": "3c20d304",
   "metadata": {},
   "outputs": [],
   "source": [
    "# Get the image, points, and the ground truth\n",
    "nux = int(np.random.random()*len(dataset))\n",
    "test_img, test_pts, test_gt = dataset[nux]\n",
    "\n",
    "padding=0.1\n",
    "resolution0=32\n",
    "upsampling_steps=3\n",
    "threshold_g=0.2\n",
    "\n",
    "# Get the threshold and the box padding\n",
    "threshold = np.log( threshold_g) - np.log(1. - threshold_g)\n",
    "box_size = 1 +  padding\n",
    "nx = 32\n",
    "pointsf = 2 * make_3d_grid((-0.5,)*3, (0.5,)*3, (nx,)*3    )\n",
    "c = net.net.encoder(test_img.unsqueeze(0))"
   ]
  },
  {
   "cell_type": "code",
   "execution_count": 234,
   "id": "4beb1ce6-f0dc-498f-b39b-0d55dcf59b12",
   "metadata": {},
   "outputs": [
    {
     "name": "stderr",
     "output_type": "stream",
     "text": [
      "Clipping input data to the valid range for imshow with RGB data ([0..1] for floats or [0..255] for integers).\n"
     ]
    },
    {
     "data": {
      "text/plain": [
       "<matplotlib.image.AxesImage at 0x7f163036b3a0>"
      ]
     },
     "execution_count": 234,
     "metadata": {},
     "output_type": "execute_result"
    },
    {
     "data": {
      "image/png": "[encoded data removed]",
      "text/plain": [
       "<Figure size 432x288 with 1 Axes>"
      ]
     },
     "metadata": {
      "needs_background": "light"
     },
     "output_type": "display_data"
    }
   ],
   "source": [
    "plt.imshow(test_img.transpose(0, 1).transpose(1, 2))"
   ]
  },
  {
   "cell_type": "code",
   "execution_count": 235,
   "id": "f9c63f89-f342-400c-937b-a5363c528cd4",
   "metadata": {},
   "outputs": [
    {
     "data": {
      "text/plain": [
       "23923"
      ]
     },
     "execution_count": 235,
     "metadata": {},
     "output_type": "execute_result"
    }
   ],
   "source": [
    "nux"
   ]
  },
  {
   "cell_type": "code",
   "execution_count": 236,
   "id": "d7c158b7-94e4-4343-8d72-e6bdc25ea1e4",
   "metadata": {},
   "outputs": [
    {
     "name": "stdout",
     "output_type": "stream",
     "text": [
      "-1.3862943611198906\n"
     ]
    }
   ],
   "source": [
    "# upsampling_steps=0\n",
    "print(threshold)"
   ]
  },
  {
   "cell_type": "code",
   "execution_count": 237,
   "id": "bd053f63",
   "metadata": {},
   "outputs": [
    {
     "name": "stdout",
     "output_type": "stream",
     "text": [
      "torch.Size([35937, 3]) torch.Size([1, 128])\n",
      "torch.Size([17740, 3]) torch.Size([1, 128])\n",
      "torch.Size([71709, 3]) torch.Size([1, 128])\n",
      "torch.Size([286792, 3]) torch.Size([1, 128])\n",
      "torch.Size([302, 3]) torch.Size([1, 128])\n",
      "torch.Size([30, 3]) torch.Size([1, 128])\n",
      "torch.Size([10, 3]) torch.Size([1, 128])\n"
     ]
    }
   ],
   "source": [
    "\n",
    "if(upsampling_steps==0):\n",
    "\n",
    "    values = eval_points(pointsf,c ).cpu().numpy()\n",
    "    value_grid = values.reshape(nx, nx, nx)\n",
    "\n",
    "else:\n",
    "    mesh_extractor = MISE(resolution0, upsampling_steps, threshold)\n",
    "    points = mesh_extractor.query()\n",
    "\n",
    "\n",
    "    while points.shape[0] != 0:\n",
    "        # Query points\n",
    "        pointsf = torch.FloatTensor(points) \n",
    "        # Normalize to bounding box\n",
    "        pointsf = pointsf / mesh_extractor.resolution\n",
    "        pointsf = box_size * (pointsf - 0.5)\n",
    "        # Evaluate model and update\n",
    "        print(pointsf.shape, c.shape)\n",
    "        values = eval_points(pointsf, c).cpu().numpy()\n",
    "\n",
    "\n",
    "        values = values.astype(np.float64)\n",
    "\n",
    "        mesh_extractor.update(points, values)\n",
    "        points = mesh_extractor.query()\n",
    "\n",
    "\n",
    "    value_grid = mesh_extractor.to_dense()\n",
    "\n",
    "\n",
    "# mesh = extract_mesh(value_grid )"
   ]
  },
  {
   "cell_type": "code",
   "execution_count": 238,
   "id": "103b1308-b3ed-4056-893e-c7ee21e6e75c",
   "metadata": {},
   "outputs": [
    {
     "name": "stdout",
     "output_type": "stream",
     "text": [
      "-1.3862943611198906 (259, 259, 259) -1000000.0 0.0794670507311821\n"
     ]
    }
   ],
   "source": [
    " mesh = extract_mesh(value_grid )"
   ]
  },
  {
   "cell_type": "code",
   "execution_count": 239,
   "id": "38a464c4-d468-4fad-a442-224b4d0ab723",
   "metadata": {},
   "outputs": [],
   "source": [
    "mesh_out_file = os.path.join('./', '%s.off' % 'onet')\n",
    "opf = mesh.export(mesh_out_file)"
   ]
  },
  {
   "cell_type": "code",
   "execution_count": null,
   "id": "9b6eefdf-268f-4483-b99e-e071374a931a",
   "metadata": {},
   "outputs": [],
   "source": []
  },
  {
   "cell_type": "code",
   "execution_count": null,
   "id": "da66d358-b1f4-4a24-bb87-205cbcc250dc",
   "metadata": {},
   "outputs": [],
   "source": []
  },
  {
   "cell_type": "code",
   "execution_count": 57,
   "id": "26526334-cf42-4e87-92bf-8c87badd5479",
   "metadata": {},
   "outputs": [
    {
     "name": "stderr",
     "output_type": "stream",
     "text": [
      "/home2/sdokania/.local/lib/python3.8/site-packages/seaborn/distributions.py:2557: FutureWarning: `distplot` is a deprecated function and will be removed in a future version. Please adapt your code to use either `displot` (a figure-level function with similar flexibility) or `histplot` (an axes-level function for histograms).\n",
      "  warnings.warn(msg, FutureWarning)\n"
     ]
    },
    {
     "data": {
      "text/plain": [
       "<AxesSubplot:ylabel='Density'>"
      ]
     },
     "execution_count": 57,
     "metadata": {},
     "output_type": "execute_result"
    },
    {
     "data": {
      "image/png": "[encoded data removed]",
      "text/plain": [
       "<Figure size 432x288 with 1 Axes>"
      ]
     },
     "metadata": {
      "needs_background": "light"
     },
     "output_type": "display_data"
    }
   ],
   "source": [
    "sns.distplot(value_grid.flatten())"
   ]
  },
  {
   "cell_type": "code",
   "execution_count": 48,
   "id": "3b2f2440-aab7-4137-9342-7093ed05d44b",
   "metadata": {},
   "outputs": [
    {
     "name": "stderr",
     "output_type": "stream",
     "text": [
      "<ipython-input-48-fd0628239959>:2: RuntimeWarning: divide by zero encountered in log\n",
      "  y = np.log(x) - np.log(1 - x)\n"
     ]
    },
    {
     "data": {
      "text/plain": [
       "[<matplotlib.lines.Line2D at 0x7f1667eac580>]"
      ]
     },
     "execution_count": 48,
     "metadata": {},
     "output_type": "execute_result"
    },
    {
     "data": {
      "image/png": "[encoded data removed]",
      "text/plain": [
       "<Figure size 432x288 with 1 Axes>"
      ]
     },
     "metadata": {
      "needs_background": "light"
     },
     "output_type": "display_data"
    }
   ],
   "source": [
    "x = np.linspace(0, 1, 1000)\n",
    "y = np.log(x) - np.log(1 - x)\n",
    "\n",
    "plt.plot(y)"
   ]
  },
  {
   "cell_type": "code",
   "execution_count": null,
   "id": "5a7e6160-d17f-4c60-9ebc-ba915c0a4908",
   "metadata": {},
   "outputs": [],
   "source": []
  },
  {
   "cell_type": "code",
   "execution_count": null,
   "id": "b721af05-bbf9-4217-a066-ee668ce08f13",
   "metadata": {},
   "outputs": [],
   "source": []
  },
  {
   "cell_type": "code",
   "execution_count": 28,
   "id": "242fe901",
   "metadata": {},
   "outputs": [
    {
     "name": "stderr",
     "output_type": "stream",
     "text": [
      "/home2/sdokania/.local/lib/python3.8/site-packages/seaborn/distributions.py:2557: FutureWarning: `distplot` is a deprecated function and will be removed in a future version. Please adapt your code to use either `displot` (a figure-level function with similar flexibility) or `histplot` (an axes-level function for histograms).\n",
      "  warnings.warn(msg, FutureWarning)\n"
     ]
    },
    {
     "data": {
      "text/plain": [
       "<AxesSubplot:ylabel='Density'>"
      ]
     },
     "execution_count": 28,
     "metadata": {},
     "output_type": "execute_result"
    },
    {
     "data": {
      "image/png": "[encoded data removed]",
      "text/plain": [
       "<Figure size 432x288 with 1 Axes>"
      ]
     },
     "metadata": {
      "needs_background": "light"
     },
     "output_type": "display_data"
    }
   ],
   "source": [
    "# old_values = values.copy()\n",
    "sns.distplot(old_values)"
   ]
  },
  {
   "cell_type": "code",
   "execution_count": null,
   "id": "9d63973a-8cdc-415c-826b-bcf88b9c62de",
   "metadata": {},
   "outputs": [],
   "source": []
  },
  {
   "cell_type": "code",
   "execution_count": null,
   "id": "4fab0bdc-18c6-4e56-b838-cc40c45ec361",
   "metadata": {},
   "outputs": [],
   "source": []
  },
  {
   "cell_type": "code",
   "execution_count": 362,
   "id": "632d2e92-3367-439c-9bf2-e7d332513fae",
   "metadata": {},
   "outputs": [],
   "source": [
    "class OccupancyNetDatasetHDF(Dataset):\n",
    "    \"\"\"Occupancy Network dataset.\"\"\"\n",
    "\n",
    "    def __init__(self, root_dir, transform=None, num_points=1024, default_transform=True, mode=\"train\"):\n",
    "        \"\"\"\n",
    "        Args:\n",
    "            root_dir (string): Directory with all the images.\n",
    "            transform (callable, optional): Optional transform to be applied\n",
    "            num_points (int): Number of points to sample in the object point cloud from the data\n",
    "                on a sample.\n",
    "            mode (str): Which data split do we want among train, test and val\n",
    "        \"\"\"\n",
    "        self.root_dir = root_dir\n",
    "        self.transform = transform\n",
    "        self.num_points = num_points\n",
    "        self.mode = mode\n",
    "        self.files = []\n",
    "        self.pos_neg_ratio = [0.1, 0.5]\n",
    "        \n",
    "        # Save the files\n",
    "        f = open(os.path.join(self.root_dir, \"{}.lst\".format(self.mode)), 'r')\n",
    "        self.files = f.read().split()\n",
    "        f.close()\n",
    "            \n",
    "        # If not transforms have been provided, apply default imagenet transform\n",
    "        if transform is None and default_transform:\n",
    "            self.transform = transforms.Normalize(mean=[0.485, 0.456, 0.406],\n",
    "                                                  std=[0.229, 0.224, 0.225])\n",
    "\n",
    "    def __len__(self):\n",
    "        return len(self.files)\n",
    "    \n",
    "    def get_prob(self):\n",
    "        return self.pos_neg_ratio[0] + (np.random.random() * (self.pos_neg_ratio[1] - self.pos_neg_ratio[0]))\n",
    "\n",
    "    def __getitem__(self, idx):\n",
    "        # Fetch the file path and setup image folder paths\n",
    "        req_path = self.files[idx]\n",
    "        file_path = os.path.join(self.root_dir, req_path)\n",
    "\n",
    "        # Load the h5 file\n",
    "        hf = h5py.File(file_path, 'r')\n",
    "        \n",
    "        # [NOTE]: the notation [()] below is to extract the value from HDF5 file\n",
    "        # get all images and randomly pick one\n",
    "        all_imgs = hf['images'][()]\n",
    "        random_idx = int(np.random.random()*all_imgs.shape[0])\n",
    "        \n",
    "        # Fetch the image we need\n",
    "        image = all_imgs[random_idx]\n",
    "        try:\n",
    "            # Get the points and occupancies\n",
    "            points = hf['points']['points'][()]\n",
    "            occupancies = np.unpackbits(hf['points']['occupancies'][()])\n",
    "            \n",
    "            # Create index list\n",
    "            indices = np.arange(occupancies.shape[0])\n",
    "            \n",
    "            n_pos = int(self.num_points * self.get_prob())\n",
    "            n_neg = self.num_points - n_pos\n",
    "            positive_idx = np.random.permutation(indices[occupancies == 1])[:n_pos]\n",
    "            negative_idx = np.random.permutation(indices[occupancies == 0])[:n_neg]\n",
    "            \n",
    "            # Sample n points from the data\n",
    "            # selected_idx = np.random.permutation(np.arange(points.shape[0]))[:self.num_points]\n",
    "            selected_idx = np.concatenate([positive_idx, negative_idx])\n",
    "\n",
    "            # Use only the selected indices and pack everything up in a nice dictionary\n",
    "            final_image = torch.from_numpy(image).float().transpose(1, 2).transpose(0, 1) / image.max()\n",
    "            final_points = torch.from_numpy(points[selected_idx]).float()\n",
    "            final_gt = torch.from_numpy(occupancies[selected_idx]).float()\n",
    "        except:\n",
    "            print(idx, file_path)\n",
    "        \n",
    "        # Close the hdf file\n",
    "        hf.close()\n",
    "        \n",
    "        # Apply any transformation necessary\n",
    "        if self.transform:\n",
    "            final_image = self.transform(final_image)\n",
    "\n",
    "        return [final_image, final_points, final_gt, occupancies]"
   ]
  },
  {
   "cell_type": "code",
   "execution_count": 363,
   "id": "51dfc7a4-3a4b-443d-8fa0-38fb98e6fdf5",
   "metadata": {},
   "outputs": [],
   "source": [
    "dataset = OccupancyNetDatasetHDF(config.data_root, num_points=2048, mode=\"val\")"
   ]
  },
  {
   "cell_type": "code",
   "execution_count": 374,
   "id": "4216a270-ae6a-4e39-a921-86216ad524c7",
   "metadata": {},
   "outputs": [
    {
     "data": {
      "text/plain": [
       "tensor(0.3379)"
      ]
     },
     "execution_count": 374,
     "metadata": {},
     "output_type": "execute_result"
    }
   ],
   "source": [
    "a, b, c, d = dataset[10]\n",
    "(c == 1).sum() / c.shape[0]"
   ]
  },
  {
   "cell_type": "code",
   "execution_count": 339,
   "id": "cd4780de-9f6c-493a-b4d2-a0fed737fe1f",
   "metadata": {},
   "outputs": [
    {
     "data": {
      "text/plain": [
       "tensor(1918)"
      ]
     },
     "execution_count": 339,
     "metadata": {},
     "output_type": "execute_result"
    }
   ],
   "source": []
  },
  {
   "cell_type": "code",
   "execution_count": 321,
   "id": "1bcf505f-984b-4f3d-b742-ae08b9e42d38",
   "metadata": {},
   "outputs": [
    {
     "data": {
      "text/plain": [
       "0.6423318215176403"
      ]
     },
     "execution_count": 321,
     "metadata": {},
     "output_type": "execute_result"
    }
   ],
   "source": [
    "# indices = np.arange(d.shape[0])\n",
    "np.random.random() *"
   ]
  },
  {
   "cell_type": "code",
   "execution_count": 262,
   "id": "bdee3296-adcc-4ac6-ae26-28e167690a93",
   "metadata": {},
   "outputs": [
    {
     "data": {
      "text/plain": [
       "array([77821, 31491, 32593, 41948, 43122, 27024, 19922, 78694, 23035,\n",
       "       40838])"
      ]
     },
     "execution_count": 262,
     "metadata": {},
     "output_type": "execute_result"
    }
   ],
   "source": [
    "np.random.permutation(indices[d == 1])[:10]"
   ]
  }
 ],
 "metadata": {
  "kernelspec": {
   "display_name": "Python 3",
   "language": "python",
   "name": "python3"
  },
  "language_info": {
   "codemirror_mode": {
    "name": "ipython",
    "version": 3
   },
   "file_extension": ".py",
   "mimetype": "text/x-python",
   "name": "python",
   "nbconvert_exporter": "python",
   "pygments_lexer": "ipython3",
   "version": "3.8.3"
  }
 },
 "nbformat": 4,
 "nbformat_minor": 5
}
