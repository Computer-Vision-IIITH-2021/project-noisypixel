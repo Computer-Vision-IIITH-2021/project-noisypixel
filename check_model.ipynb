{
 "cells": [
  {
   "cell_type": "code",
   "execution_count": 1,
   "id": "c5b6a83d",
   "metadata": {},
   "outputs": [],
   "source": [
    "import sys\n",
    "sys.path.append(\"/home2/sdokania/all_projects/project-noisypixel/\")"
   ]
  },
  {
   "cell_type": "code",
   "execution_count": 2,
   "id": "b0ad72bb",
   "metadata": {},
   "outputs": [],
   "source": [
    "import os\n",
    "import glob\n",
    "import cv2\n",
    "import random\n",
    "import pandas as pd\n",
    "from skimage import io\n",
    "import numpy as np\n",
    "from PIL import Image\n",
    "from torch.utils.data import Dataset, DataLoader\n",
    "from torchvision import transforms, utils\n",
    "import h5py\n",
    "\n",
    "# Network building stuff\n",
    "import torch\n",
    "import torch.nn as nn\n",
    "import torch.nn.functional as F\n",
    "\n",
    "import pytorch_lightning as pl\n",
    "from pytorch_lightning.loggers import TensorBoardLogger\n",
    "import torchmetrics\n",
    "import torch.distributions as dist\n",
    "\n",
    "\n",
    "#mesh\n",
    "from src.utils.libmise.mise import  MISE\n",
    "from src.utils.libmcubes.mcubes import marching_cubes\n",
    "import trimesh\n",
    "from src.evaluate import *"
   ]
  },
  {
   "cell_type": "code",
   "execution_count": 3,
   "id": "3a7ccf46",
   "metadata": {},
   "outputs": [],
   "source": [
    "import seaborn as sns\n",
    "import matplotlib.pyplot as plt\n",
    "%matplotlib inline"
   ]
  },
  {
   "cell_type": "code",
   "execution_count": 4,
   "id": "01cc0b62",
   "metadata": {},
   "outputs": [],
   "source": [
    "DEVICE=\"cuda:0\""
   ]
  },
  {
   "cell_type": "code",
   "execution_count": 5,
   "id": "df8b3caa",
   "metadata": {},
   "outputs": [],
   "source": [
    "from src.models import *\n",
    "from src.dataset.dataloader import OccupancyNetDatasetHDF\n",
    "from src.trainer import ONetLit\n",
    "from src.utils import Config, count_parameters"
   ]
  },
  {
   "cell_type": "code",
   "execution_count": 6,
   "id": "c916cceb",
   "metadata": {},
   "outputs": [
    {
     "name": "stdout",
     "output_type": "stream",
     "text": [
      "Setting sexperiment path as : /home2/sdokania/all_projects/occ_artifacts/initial\n",
      "Setting sexperiment path as : ../occ_artifacts/mesh_exp\n"
     ]
    }
   ],
   "source": [
    "config = Config()\n",
    "config.data_root = \"/ssd_scratch/cvit/sdokania/processed_data/hdf_data/\"\n",
    "config.batch_size = 32\n",
    "config.output_dir = '../occ_artifacts/'\n",
    "config.exp_name = 'mesh_exp'\n",
    "# config.encoder = \"resnet-18\"\n",
    "# config.decoder = \"decoder-cbn\"\n",
    "# config.c_dim = 256\n",
    "\n",
    "config.encoder = \"efficientnet-b0\"\n",
    "config.decoder = \"decoder-cbn\"\n",
    "# config.c_dim = 256"
   ]
  },
  {
   "cell_type": "code",
   "execution_count": 7,
   "id": "5e1abd90",
   "metadata": {},
   "outputs": [
    {
     "data": {
      "text/plain": [
       "{'c_dim': 128,\n",
       " 'h_dim': 128,\n",
       " 'p_dim': 3,\n",
       " 'data_root': '/ssd_scratch/cvit/sdokania/processed_data/hdf_data/',\n",
       " 'batch_size': 32,\n",
       " 'output_dir': '../occ_artifacts/',\n",
       " '_exp_name': 'mesh_exp',\n",
       " 'encoder': 'efficientnet-b0',\n",
       " 'decoder': 'decoder-cbn',\n",
       " 'lr': 0.0003,\n",
       " 'exp_path': '../occ_artifacts/mesh_exp'}"
      ]
     },
     "execution_count": 7,
     "metadata": {},
     "output_type": "execute_result"
    }
   ],
   "source": [
    "vars(config)"
   ]
  },
  {
   "cell_type": "code",
   "execution_count": 8,
   "id": "6c9ee280",
   "metadata": {},
   "outputs": [
    {
     "name": "stdout",
     "output_type": "stream",
     "text": [
      "Loaded pretrained weights for efficientnet-b0\n"
     ]
    }
   ],
   "source": [
    "onet = ONetLit(config)"
   ]
  },
  {
   "cell_type": "code",
   "execution_count": 9,
   "id": "5f225bfd",
   "metadata": {},
   "outputs": [
    {
     "name": "stdout",
     "output_type": "stream",
     "text": [
      "Loaded pretrained weights for efficientnet-b0\n"
     ]
    }
   ],
   "source": [
    "net = ONetLit.load_from_checkpoint(\"../occ_artifacts/efficient_cbn_bs_64_full_data/lightning_logs/version_1/checkpoints/epoch=131-step=63359.ckpt\", cfg=config).eval()\n",
    "# net = ONetLit.load_from_checkpoint(\"../occ_artifacts/resnet50_fc_bs_64_full_data_balanced/lightning_logs/version_1/checkpoints/epoch=157-step=75770.ckpt\", cfg=config).eval()\n",
    "# net = ONetLit.load_from_checkpoint(\"../occ_artifacts/efficient_fcdecoder_bs_64_full_data/lightning_logs/version_1/checkpoints/epoch=129-step=62399.ckpt\", cfg=config)\n",
    "\n",
    "# net = ONetLit.load_from_checkpoint(\"../occ_artifacts/resnet18_cbn_bs_256_sub_data_balanced/lightning_logs/version_1/checkpoints/epoch=95-step=2495.ckpt\", cfg=config).eval()"
   ]
  },
  {
   "cell_type": "code",
   "execution_count": 10,
   "id": "e3c6f8a7",
   "metadata": {},
   "outputs": [
    {
     "name": "stdout",
     "output_type": "stream",
     "text": [
      "8751\n"
     ]
    }
   ],
   "source": [
    "dataset = OccupancyNetDatasetHDF(config.data_root, num_points=2048, mode=\"test\", point_cloud=True)\n",
    "print(len(dataset))"
   ]
  },
  {
   "cell_type": "code",
   "execution_count": 57,
   "id": "b7260344",
   "metadata": {},
   "outputs": [],
   "source": [
    "# mesh, mesh_data = get_mesh(dataset[0][:-1], return_points=True)\n",
    "\n",
    "\n",
    "mesh_out_file = os.path.join('./', '%s.off' % 'onet')\n",
    "opf = mesh.export(mesh_out_file)"
   ]
  },
  {
   "cell_type": "code",
   "execution_count": 12,
   "id": "050a2909-4e38-4322-8fa0-3e7e23a6de5d",
   "metadata": {},
   "outputs": [],
   "source": [
    "empty_point_dict = {\n",
    "    'completeness': np.sqrt(3),\n",
    "    'accuracy': np.sqrt(3),\n",
    "    'completeness2': 3,\n",
    "    'accuracy2': 3,\n",
    "    'chamfer': 6,\n",
    "}\n",
    "\n",
    "empty_normal_dict = {\n",
    "    'normals completeness': -1.,\n",
    "    'normals accuracy': -1.,\n",
    "    'normals': -1.,\n",
    "}"
   ]
  },
  {
   "cell_type": "code",
   "execution_count": 13,
   "id": "2cf2a681-620d-48d8-8b51-b97197577f99",
   "metadata": {},
   "outputs": [],
   "source": [
    "import datetime\n",
    "import tqdm\n",
    "import torch.distributions as dist\n",
    "import pandas as pd"
   ]
  },
  {
   "cell_type": "code",
   "execution_count": 22,
   "id": "b66c820c-43fc-41aa-8f0e-96a2bdd4e55e",
   "metadata": {},
   "outputs": [
    {
     "name": "stdout",
     "output_type": "stream",
     "text": [
      "0:00:00.921384\n",
      "completeness: 0.007918988902723943\n",
      "accuracy: 0.008183860976921182\n",
      "normals completeness: 0.8879243731498718\n",
      "normals accuracy: 0.8527359366416931\n",
      "normals: 0.8703301548957825\n",
      "completeness_sq: 0.0001103035606231151\n",
      "accuracy_sq: 0.00016926852475772773\n",
      "chamfer-L2: 0.0001397860426904214\n",
      "chamfer-L1: 0.08051424939822562\n",
      "iou: 0.5555555820465088\n"
     ]
    }
   ],
   "source": [
    "DEVICE=\"cuda:0\"\n",
    "nux = 0\n",
    "start = datetime.datetime.now()\n",
    "result = []\n",
    "\n",
    "shuffled_idx = 100\n",
    "\n",
    "test_img, test_pts, test_gt, pcl_gt, norm_gt = dataset[ix][:]\n",
    "net.to(DEVICE)\n",
    "pred_pts = net(test_img.unsqueeze(0).to(DEVICE), test_pts.unsqueeze(0).to(DEVICE)).cpu()\n",
    "mesh, mesh_data, normals = get_mesh(net, (test_img.to(DEVICE), test_pts, test_gt), threshold_g=0.5, return_points=True)\n",
    "pred_occ = dist.Bernoulli(logits=pred_pts).probs.data.numpy().squeeze()\n",
    "result.append(eval_pointcloud(mesh_data[0], pcl_gt, normals, norm_gt, pred_occ, test_gt))\n",
    "\n",
    "print(datetime.datetime.now() - start)\n",
    "for kx in result[0]:\n",
    "    if kx == \"chamfer-L1\":\n",
    "        print(\"{}: {}\".format(kx, result[0][kx]*10))\n",
    "    else:\n",
    "        print(\"{}: {}\".format(kx, result[0][kx]))\n",
    "    \n",
    "\n",
    "mesh_out_file = os.path.join('./', '%s.off' % 'onet')\n",
    "opf = mesh.export(mesh_out_file)"
   ]
  },
  {
   "cell_type": "code",
   "execution_count": 23,
   "id": "0873710d-2df1-4094-8173-7a1842c16b65",
   "metadata": {},
   "outputs": [
    {
     "name": "stderr",
     "output_type": "stream",
     "text": [
      "Clipping input data to the valid range for imshow with RGB data ([0..1] for floats or [0..255] for integers).\n"
     ]
    },
    {
     "data": {
      "text/plain": [
       "<matplotlib.image.AxesImage at 0x7f31edd07af0>"
      ]
     },
     "execution_count": 23,
     "metadata": {},
     "output_type": "execute_result"
    },
    {
     "data": {
      "image/png": "[encoded data removed]",
      "text/plain": [
       "<Figure size 432x288 with 1 Axes>"
      ]
     },
     "metadata": {
      "needs_background": "light"
     },
     "output_type": "display_data"
    }
   ],
   "source": [
    "plt.imshow(test_img.transpose(0, 1).transpose(1,  2))"
   ]
  },
  {
   "cell_type": "code",
   "execution_count": null,
   "id": "a64773aa-6bea-47e6-903b-7e41cfb31098",
   "metadata": {},
   "outputs": [],
   "source": []
  },
  {
   "cell_type": "code",
   "execution_count": null,
   "id": "27a479c7-a73d-412e-9f81-520a368cc8a0",
   "metadata": {},
   "outputs": [],
   "source": []
  }
 ],
 "metadata": {
  "kernelspec": {
   "display_name": "Python 3",
   "language": "python",
   "name": "python3"
  },
  "language_info": {
   "codemirror_mode": {
    "name": "ipython",
    "version": 3
   },
   "file_extension": ".py",
   "mimetype": "text/x-python",
   "name": "python",
   "nbconvert_exporter": "python",
   "pygments_lexer": "ipython3",
   "version": "3.8.3"
  }
 },
 "nbformat": 4,
 "nbformat_minor": 5
}
