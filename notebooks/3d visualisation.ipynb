{
 "cells": [
  {
   "cell_type": "code",
   "execution_count": 1,
   "metadata": {},
   "outputs": [],
   "source": [
    "import numpy as np\n",
    "import open3d as o3d\n",
    "from open3d import JVisualizer"
   ]
  },
  {
   "cell_type": "code",
   "execution_count": 14,
   "metadata": {},
   "outputs": [],
   "source": [
    "#from shapenet dataset\n",
    "\n",
    "def visualize(path,viz_type = 'pc', num_points = 5000,radii = [0.005, 0.01, 0.02, 0.04]):\n",
    "    \n",
    "    #load point cloud and normals\n",
    "    pc_xyz = np.load(path+'points.npy')\n",
    "    pc_normals = np.load(path+'normals.npy')\n",
    "    \n",
    "    \n",
    "    #sample points or visualisation\n",
    "    \n",
    "    selected_idx = np.random.permutation(np.arange(pc_xyz.shape[0]))[:num_points]\n",
    "    pc_xyz = pc_xyz[selected_idx]\n",
    "    pc_normals = pc_normals[selected_idx]\n",
    "\n",
    " \n",
    "    #create point cloud dataset using open3d\n",
    "    pcd = o3d.geometry.PointCloud()\n",
    "    pcd.points = o3d.utility.Vector3dVector(pc_xyz)\n",
    "    pcd.normals = o3d.utility.Vector3dVector(pc_normals)\n",
    "    pcd.colors = o3d.utility.Vector3dVector(pc_normals)\n",
    "\n",
    "    if(viz_type=='pc'):\n",
    "        #visualize point cloud\n",
    "        \n",
    "        visualizer = JVisualizer()\n",
    "        visualizer.add_geometry(pcd)\n",
    "        visualizer.show()\n",
    "\n",
    "        \n",
    "    else:\n",
    "        \n",
    "        #create mesh\n",
    "        rec_mesh = o3d.geometry.TriangleMesh.create_from_point_cloud_ball_pivoting(pcd, o3d.utility.DoubleVector(radii))\n",
    "    \n",
    "        #visualize mesh\n",
    "        o3d.visualization.draw_geometries([rec_mesh])\n",
    "\n",
    "    \n",
    "    "
   ]
  },
  {
   "cell_type": "code",
   "execution_count": 15,
   "metadata": {},
   "outputs": [],
   "source": [
    "path = '/home/shanthika/Documents/CV/project/subset(1)/subset/ShapeNet/'\n",
    "class_id = '02828884/'\n",
    "file_id = '1b0463c11f3cc1b3601104cd2d998272/'\n",
    "filename = path+class_id+file_id+'pointcloud/'\n",
    "visualize(filename,viz_type='mesh')"
   ]
  }
 ],
 "metadata": {
  "kernelspec": {
   "display_name": "Python 3",
   "language": "python",
   "name": "python3"
  },
  "language_info": {
   "codemirror_mode": {
    "name": "ipython",
    "version": 3
   },
   "file_extension": ".py",
   "mimetype": "text/x-python",
   "name": "python",
   "nbconvert_exporter": "python",
   "pygments_lexer": "ipython3",
   "version": "3.7.6"
  }
 },
 "nbformat": 4,
 "nbformat_minor": 4
}
