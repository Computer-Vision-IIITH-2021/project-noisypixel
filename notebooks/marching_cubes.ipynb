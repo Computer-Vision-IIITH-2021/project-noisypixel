{
 "cells": [
  {
   "cell_type": "code",
   "execution_count": 17,
   "metadata": {
    "scrolled": true
   },
   "outputs": [
    {
     "ename": "ModuleNotFoundError",
     "evalue": "No module named 'mise'",
     "output_type": "error",
     "traceback": [
      "\u001b[0;31m---------------------------------------------------------------------------\u001b[0m",
      "\u001b[0;31mModuleNotFoundError\u001b[0m                       Traceback (most recent call last)",
      "\u001b[0;32m<ipython-input-17-0f24189abe4c>\u001b[0m in \u001b[0;36m<module>\u001b[0;34m\u001b[0m\n\u001b[1;32m      2\u001b[0m \u001b[0;32mimport\u001b[0m \u001b[0msys\u001b[0m\u001b[0;34m\u001b[0m\u001b[0;34m\u001b[0m\u001b[0m\n\u001b[1;32m      3\u001b[0m \u001b[0;31m# sys.path.append('utils/libmise/')\u001b[0m\u001b[0;34m\u001b[0m\u001b[0;34m\u001b[0m\u001b[0;34m\u001b[0m\u001b[0m\n\u001b[0;32m----> 4\u001b[0;31m \u001b[0;32mfrom\u001b[0m \u001b[0mmise\u001b[0m \u001b[0;32mimport\u001b[0m  \u001b[0mMISE\u001b[0m\u001b[0;34m\u001b[0m\u001b[0;34m\u001b[0m\u001b[0m\n\u001b[0m",
      "\u001b[0;31mModuleNotFoundError\u001b[0m: No module named 'mise'"
     ]
    }
   ],
   "source": [
    "import numpy as np\n",
    "import torch\n",
    "from im2mesh.utils.libmise.mise import  MISE\n",
    "from im2mesh.utils.libmcubes.mcubes import marching_cubes\n",
    "import trimesh\n",
    "import os\n",
    "\n",
    "#model\n",
    "from im2mesh import config\n",
    "import argparse\n",
    "from tqdm import tqdm\n",
    "from im2mesh.checkpoints import CheckpointIO\n",
    "\n"
   ]
  },
  {
   "cell_type": "code",
   "execution_count": 26,
   "metadata": {},
   "outputs": [],
   "source": [
    "def extract_mesh(occ, points,threshold = 0.5,padding=0.1,resolution0=16,upsampling_steps=3):\n",
    "    threshold = np.log(threshold) - np.log(1. - threshold)\n",
    "    \n",
    "    box_size = 1 + padding\n",
    "    \n",
    "    mesh_extractor = MISE(resolution0, upsampling_steps, threshold)\n",
    "\n",
    "    points = mesh_extractor.query()\n",
    "\n",
    "    \n",
    "    \n",
    "    "
   ]
  },
  {
   "cell_type": "code",
   "execution_count": 27,
   "metadata": {},
   "outputs": [
    {
     "name": "stdout",
     "output_type": "stream",
     "text": [
      "0.4054651081081643\n"
     ]
    }
   ],
   "source": [
    "occ_file = '/home/shanthika/Documents/CV/project/subset(1)/subset/ShapeNet/02828884/1b0463c11f3cc1b3601104cd2d998272/points/occupancies.npy'\n",
    "points_file = '/home/shanthika/Documents/CV/project/subset(1)/subset/ShapeNet/02828884/1b0463c11f3cc1b3601104cd2d998272/points/points.npy'\n",
    "loc_file = '/home/shanthika/Documents/CV/project/subset(1)/subset/ShapeNet/02828884/1b0463c11f3cc1b3601104cd2d998272/points/loc.npy'\n",
    "\n",
    "occ = np.load(occ_file)\n",
    "occ = np.unpackbits(occ)\n",
    "points = np.load(points_file)\n",
    "loc  = np.load(loc_file)\n",
    " \n",
    "extract_mesh(occ,points)"
   ]
  },
  {
   "cell_type": "code",
   "execution_count": null,
   "metadata": {},
   "outputs": [],
   "source": []
  }
 ],
 "metadata": {
  "kernelspec": {
   "display_name": "Python 3",
   "language": "python",
   "name": "python3"
  },
  "language_info": {
   "codemirror_mode": {
    "name": "ipython",
    "version": 3
   },
   "file_extension": ".py",
   "mimetype": "text/x-python",
   "name": "python",
   "nbconvert_exporter": "python",
   "pygments_lexer": "ipython3",
   "version": "3.7.6"
  }
 },
 "nbformat": 4,
 "nbformat_minor": 4
}
