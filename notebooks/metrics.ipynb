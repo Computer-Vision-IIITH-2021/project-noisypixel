{
 "cells": [
  {
   "cell_type": "code",
   "execution_count": 1,
   "metadata": {},
   "outputs": [],
   "source": [
    "from pykdtree.kdtree import KDTree\n",
    "import numpy as np"
   ]
  },
  {
   "cell_type": "code",
   "execution_count": 2,
   "metadata": {},
   "outputs": [],
   "source": [
    "pc_path1 = '/home/madhvi/Documents/CV Project/data/subset/ShapeNet/02691156/1ac29674746a0fc6b87697d3904b168b/pointcloud.npz'\n",
    "pc_path2 = '/home/madhvi/Documents/CV Project/data/subset/ShapeNet/02691156/1ac29674746a0fc6b87697d3904b168b/pointcloud.npz'\n",
    "p_path1 = '/home/madhvi/Documents/CV Project/data/subset/ShapeNet/02691156/1ac29674746a0fc6b87697d3904b168b/points.npz'\n",
    "p_path2 = '/home/madhvi/Documents/CV Project/data/subset/ShapeNet/02691156/1ac29674746a0fc6b87697d3904b168b/points.npz'"
   ]
  },
  {
   "cell_type": "code",
   "execution_count": 3,
   "metadata": {},
   "outputs": [],
   "source": [
    "pc_data1 = np.load(pc_path1)\n",
    "pc_data2 = np.load(pc_path2)\n",
    "p_data1 = np.load(p_path1)\n",
    "p_data2 = np.load(p_path2)"
   ]
  },
  {
   "cell_type": "code",
   "execution_count": 4,
   "metadata": {},
   "outputs": [],
   "source": [
    "pointcloud = pc_data1['points']\n",
    "pointcloud_gt = pc_data2['points']\n",
    "normals = pc_data1['normals']\n",
    "normals_gt = pc_data2['normals']\n",
    "occ_1 = p_data1['occupancies']\n",
    "occ_2 = p_data2['occupancies']"
   ]
  },
  {
   "cell_type": "code",
   "execution_count": 5,
   "metadata": {},
   "outputs": [],
   "source": [
    "def compute_iou(occ1, occ2):\n",
    "    ''' Computes the Intersection over Union (IoU) value for two sets of\n",
    "    occupancy values.\n",
    "    Args:\n",
    "        occ1 (tensor): first set of occupancy values\n",
    "        occ2 (tensor): second set of occupancy values\n",
    "    '''\n",
    "    occ1 = np.asarray(occ1)\n",
    "    occ2 = np.asarray(occ2)\n",
    "\n",
    "    # Put all data in second dimension\n",
    "    # Also works for 1-dimensional data\n",
    "    if occ1.ndim >= 2:\n",
    "        occ1 = occ1.reshape(occ1.shape[0], -1)\n",
    "    if occ2.ndim >= 2:\n",
    "        occ2 = occ2.reshape(occ2.shape[0], -1)\n",
    "\n",
    "    # Convert to boolean values\n",
    "    occ1 = (occ1 >= 0.5)\n",
    "    occ2 = (occ2 >= 0.5)\n",
    "\n",
    "    # Compute IOU\n",
    "    area_union = (occ1 | occ2).astype(np.float32).sum(axis=-1)\n",
    "    area_intersect = (occ1 & occ2).astype(np.float32).sum(axis=-1)\n",
    "\n",
    "    iou = (area_intersect / area_union)\n",
    "\n",
    "    return iou"
   ]
  },
  {
   "cell_type": "code",
   "execution_count": 6,
   "metadata": {},
   "outputs": [],
   "source": [
    "empty_point_dict = {\n",
    "    'completeness': np.sqrt(3),\n",
    "    'accuracy': np.sqrt(3),\n",
    "    'completeness2': 3,\n",
    "    'accuracy2': 3,\n",
    "    'chamfer': 6,\n",
    "}\n",
    "\n",
    "empty_normal_dict = {\n",
    "    'normals completeness': -1.,\n",
    "    'normals accuracy': -1.,\n",
    "    'normals': -1.,\n",
    "}"
   ]
  },
  {
   "cell_type": "code",
   "execution_count": 10,
   "metadata": {},
   "outputs": [],
   "source": [
    "def compute_separation(points_src, normals_src, points_tgt, normals_tgt):\n",
    "    ''' Computes minimal distances of each point in points_src to points_tgt.\n",
    "    Args:\n",
    "        points_src (numpy array): source points\n",
    "        normals_src (numpy array): source normals\n",
    "        points_tgt (numpy array): target points\n",
    "        normals_tgt (numpy array): target normals\n",
    "    '''\n",
    "    kdtree = KDTree(points_tgt)\n",
    "    sepr, ind = kdtree.query(points_src)\n",
    "\n",
    "    if normals_src is not None and normals_tgt is not None:\n",
    "        normals_src = normals_src / np.linalg.norm(normals_src, axis=-1, keepdims=True)\n",
    "        normals_tgt = normals_tgt / np.linalg.norm(normals_tgt, axis=-1, keepdims=True)\n",
    "\n",
    "        normals_dot_product = (normals_tgt[ind] * normals_src).sum(axis=-1)\n",
    "        normals_dot_product = np.abs(normals_dot_product)\n",
    "    else:\n",
    "        normals_dot_product = np.array(\n",
    "            [np.nan] * points_src.shape[0], dtype=np.float32)\n",
    "    return sepr, normals_dot_product"
   ]
  },
  {
   "cell_type": "code",
   "execution_count": 16,
   "metadata": {},
   "outputs": [],
   "source": [
    "def eval_pointcloud(pointcloud, pointcloud_gt,\n",
    "                        normals, normals_gt, occ1, occ2):\n",
    "        ''' \n",
    "        Evaluates a point cloud.\n",
    "        Args:\n",
    "            pointcloud (numpy array): predicted point cloud\n",
    "            pointcloud_gt (numpy array): ground truth point cloud\n",
    "            normals (numpy array): predicted normals\n",
    "            normals_gt (numpy array): ground truth normals\n",
    "        '''\n",
    "        # Return maximum losses if pointcloud is empty\n",
    "        if pointcloud.shape[0] == 0:\n",
    "            print('Empty pointcloud / mesh detected!')\n",
    "            # [ERR]: there's supposed to be a .copy() here\n",
    "            out_dict = empty_point_dict.copy()\n",
    "            if normals is not None and normals_tgt is not None:\n",
    "                out_dict.update(empty_normal_dict)\n",
    "            return out_dict\n",
    "\n",
    "        pointcloud = np.asarray(pointcloud)\n",
    "        pointcloud_gt = np.asarray(pointcloud_gt)\n",
    "\n",
    "        # Completeness: how far are the points of the groundtruth point cloud\n",
    "        # from the predicted point cloud\n",
    "        completeness, normal_completeness = compute_separation(\n",
    "            pointcloud_gt, normals_gt, pointcloud, normals\n",
    "        )\n",
    "        completeness_sq = completeness**2\n",
    "\n",
    "        completeness = completeness.mean()\n",
    "        completeness_sq = completeness_sq.mean()\n",
    "        normal_completeness = normal_completeness.mean()\n",
    "\n",
    "        # Accuracy: how far are the points of the predicted pointcloud\n",
    "        # from the groundtruth pointcloud\n",
    "        accuracy, normal_accuracy = compute_separation(\n",
    "            pointcloud, normals, pointcloud_gt, normals_gt\n",
    "        )\n",
    "        accuracy_sq = accuracy**2\n",
    "\n",
    "        accuracy = accuracy.mean()\n",
    "        accuracy_sq = accuracy_sq.mean()\n",
    "        normal_accuracy = normal_accuracy.mean()\n",
    "\n",
    "        # Chamfer distance\n",
    "        chamferL2 = 0.5 * (completeness_sq + accuracy_sq)\n",
    "        normals_correction = (\n",
    "            0.5 * normal_completeness + 0.5 * normal_accuracy\n",
    "        )\n",
    "        chamferL1 = 0.5 * (completeness + accuracy)\n",
    "        \n",
    "        occupancy_iou = compute_iou(occ1, occ2)\n",
    "\n",
    "        out_dict = {\n",
    "            'completeness': completeness,\n",
    "            'accuracy': accuracy,\n",
    "            'normals completeness': normal_completeness,\n",
    "            'normals accuracy': normal_accuracy,\n",
    "            'normals': normals_correction,\n",
    "            'completeness_sq': completeness_sq,\n",
    "            'accuracy_sq': accuracy_sq,\n",
    "            'chamfer-L2': chamferL2,compute_iou(occ1, occ2)\n",
    "            'chamfer-L1': chamferL1,\n",
    "            'iou': occupancy_iou\n",
    "        }\n",
    "\n",
    "        return out_dict"
   ]
  },
  {
   "cell_type": "code",
   "execution_count": 17,
   "metadata": {},
   "outputs": [
    {
     "name": "stdout",
     "output_type": "stream",
     "text": [
      "{'completeness': 0.0, 'accuracy': 0.0, 'normals completeness': 1.0, 'normals accuracy': 1.0, 'normals': 1.0, 'completeness_sq': 0.0, 'accuracy_sq': 0.0, 'chamfer-L2': 0.0, 'chamfer-L1': 0.0, 'iou': 1.0}\n"
     ]
    }
   ],
   "source": [
    "eval_dict = eval_pointcloud(pointcloud, pointcloud_gt, normals, normals_gt, occ_1, occ_2)\n",
    "print(eval_dict)"
   ]
  },
  {
   "cell_type": "code",
   "execution_count": null,
   "metadata": {},
   "outputs": [],
   "source": []
  }
 ],
 "metadata": {
  "kernelspec": {
   "display_name": "Python 3",
   "language": "python",
   "name": "python3"
  },
  "language_info": {
   "codemirror_mode": {
    "name": "ipython",
    "version": 3
   },
   "file_extension": ".py",
   "mimetype": "text/x-python",
   "name": "python",
   "nbconvert_exporter": "python",
   "pygments_lexer": "ipython3",
   "version": "3.8.3"
  }
 },
 "nbformat": 4,
 "nbformat_minor": 4
}
