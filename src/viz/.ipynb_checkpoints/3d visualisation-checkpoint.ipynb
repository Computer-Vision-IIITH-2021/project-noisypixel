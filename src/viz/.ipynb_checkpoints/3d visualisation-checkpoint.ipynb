{
 "cells": [
  {
   "cell_type": "code",
   "execution_count": 1,
   "metadata": {},
   "outputs": [],
   "source": [
    "import numpy as np\n",
    "import open3d as o3d\n",
    "from open3d import JVisualizer"
   ]
  },
  {
   "cell_type": "code",
   "execution_count": 20,
   "metadata": {},
   "outputs": [],
   "source": [
    "#from shapenet dataset\n",
    "def visualize(path):\n",
    "    #load point cloud and normals\n",
    "    pc_xyz = np.load(path+'points.npy')\n",
    "    pc_normals = np.load(path+'normals.npy')\n",
    "    \n",
    "    \n",
    "    num_points = 5000\n",
    "    selected_idx = np.random.permutation(np.arange(pc_xyz.shape[0]))[:num_points]\n",
    "    pc_xyz = pc_xyz[selected_idx]\n",
    "    pc_normals = pc_normals[selected_idx]\n",
    "\n",
    " \n",
    "    pcd = o3d.geometry.PointCloud()\n",
    "    pcd.points = o3d.utility.Vector3dVector(pc_xyz)\n",
    "    pcd.normals = o3d.utility.Vector3dVector(pc_normals)\n",
    "    pcd.colors = o3d.utility.Vector3dVector(pc_normals)\n",
    "# \n",
    "#     pcd.paint_uniform_color([1,1,1])\n",
    "\n",
    "    #create mesh\n",
    "    radii = [0.005, 0.01, 0.02, 0.04]\n",
    "    rec_mesh = o3d.geometry.TriangleMesh.create_from_point_cloud_ball_pivoting(pcd, o3d.utility.DoubleVector(radii))\n",
    "\n",
    "    \n",
    "    #visualize point cloud\n",
    "    visualizer = JVisualizer()\n",
    "    visualizer.add_geometry(pcd)\n",
    "    visualizer.show()\n",
    "    \n",
    "    #visualize mesh\n",
    "#     o3d.visualization.draw_geometries([rec_mesh])"
   ]
  },
  {
   "cell_type": "code",
   "execution_count": 21,
   "metadata": {},
   "outputs": [
    {
     "data": {
      "application/vnd.jupyter.widget-view+json": {
       "model_id": "5a3ec5643b454d06ac203de0eb6b904f",
       "version_major": 2,
       "version_minor": 0
      },
      "text/plain": [
       "JVisualizer with 1 geometries"
      ]
     },
     "metadata": {},
     "output_type": "display_data"
    }
   ],
   "source": [
    "filename = '/home/shanthika/Documents/CV/project/subset(1)/subset/ShapeNet/02828884/1b0463c11f3cc1b3601104cd2d998272/pointcloud/'\n",
    "visualize(filename)"
   ]
  },
  {
   "cell_type": "code",
   "execution_count": 42,
   "metadata": {},
   "outputs": [],
   "source": []
  },
  {
   "cell_type": "code",
   "execution_count": null,
   "metadata": {},
   "outputs": [],
   "source": []
  }
 ],
 "metadata": {
  "kernelspec": {
   "display_name": "Python 3",
   "language": "python",
   "name": "python3"
  },
  "language_info": {
   "codemirror_mode": {
    "name": "ipython",
    "version": 3
   },
   "file_extension": ".py",
   "mimetype": "text/x-python",
   "name": "python",
   "nbconvert_exporter": "python",
   "pygments_lexer": "ipython3",
   "version": "3.7.6"
  }
 },
 "nbformat": 4,
 "nbformat_minor": 4
}
