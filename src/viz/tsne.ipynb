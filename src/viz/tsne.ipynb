{
 "cells": [
  {
   "cell_type": "code",
   "execution_count": 1,
   "metadata": {},
   "outputs": [],
   "source": [
    "import torch\n",
    "import numpy as np\n",
    "import torchvision\n",
    "import torchvision.transforms as transforms"
   ]
  },
  {
   "cell_type": "code",
   "execution_count": 2,
   "metadata": {},
   "outputs": [
    {
     "name": "stdout",
     "output_type": "stream",
     "text": [
      "Files already downloaded and verified\n",
      "Files already downloaded and verified\n"
     ]
    }
   ],
   "source": [
    "transform = transforms.Compose(\n",
    "    [transforms.ToTensor()])\n",
    "\n",
    "trainset = torchvision.datasets.CIFAR10(root='./data', train=True,\n",
    "                                        download=True, transform=transform)\n",
    "trainloader = torch.utils.data.DataLoader(trainset, batch_size=500,\n",
    "                                          shuffle=True, num_workers=2)\n",
    "\n",
    "testset = torchvision.datasets.CIFAR10(root='./data', train=False,\n",
    "                                       download=True, transform=transform)\n",
    "testloader = torch.utils.data.DataLoader(testset, batch_size=2,\n",
    "                                         shuffle=False, num_workers=2)"
   ]
  },
  {
   "cell_type": "code",
   "execution_count": 3,
   "metadata": {},
   "outputs": [
    {
     "name": "stdout",
     "output_type": "stream",
     "text": [
      "<class 'torch.Tensor'> torch.Size([500, 3, 32, 32]) torch.Size([500])\n"
     ]
    }
   ],
   "source": [
    "for i_batch, sample_batched in enumerate(trainloader):\n",
    "    if(i_batch!=0):\n",
    "        break\n",
    "    batch = sample_batched\n",
    "data = batch[0]\n",
    "labels = batch[1]\n",
    "print(type(data), data.shape, labels.shape)"
   ]
  },
  {
   "cell_type": "code",
   "execution_count": 4,
   "metadata": {},
   "outputs": [],
   "source": [
    "from torchvision import models, transforms\n",
    "import torch.nn as nn\n",
    "model = models.resnet101(pretrained=True)\n",
    "model_weights = [] # we will save the conv layer weights in this list\n",
    "conv_layers = [] # we will save the 49 conv layers in this list\n",
    "# get all the model children as list\n",
    "model_children = list(model.children())"
   ]
  },
  {
   "cell_type": "code",
   "execution_count": 5,
   "metadata": {},
   "outputs": [],
   "source": [
    "# for i in model_children:\n",
    "#     print(i)\n",
    "#     print('-'*10)"
   ]
  },
  {
   "cell_type": "code",
   "execution_count": 6,
   "metadata": {},
   "outputs": [
    {
     "name": "stdout",
     "output_type": "stream",
     "text": [
      "Total convolutional layers: 100\n"
     ]
    }
   ],
   "source": [
    "counter = 0 \n",
    "# append all the conv layers and their respective weights to the list\n",
    "for i in range(len(model_children)):\n",
    "    if type(model_children[i]) == nn.Conv2d:\n",
    "        counter += 1\n",
    "        model_weights.append(model_children[i].weight)\n",
    "        conv_layers.append(model_children[i])\n",
    "    elif type(model_children[i]) == nn.Sequential:\n",
    "        for j in range(len(model_children[i])):\n",
    "            for child in model_children[i][j].children():\n",
    "                if type(child) == nn.Conv2d:\n",
    "                    counter += 1\n",
    "                    model_weights.append(child.weight)\n",
    "                    conv_layers.append(child)\n",
    "print(f\"Total convolutional layers: {counter}\")"
   ]
  },
  {
   "cell_type": "code",
   "execution_count": 7,
   "metadata": {
    "scrolled": true
   },
   "outputs": [
    {
     "name": "stdout",
     "output_type": "stream",
     "text": [
      "CONV: Conv2d(3, 64, kernel_size=(7, 7), stride=(2, 2), padding=(3, 3), bias=False) ====> SHAPE: torch.Size([64, 3, 7, 7])\n",
      "CONV: Conv2d(64, 64, kernel_size=(1, 1), stride=(1, 1), bias=False) ====> SHAPE: torch.Size([64, 64, 1, 1])\n",
      "CONV: Conv2d(64, 64, kernel_size=(3, 3), stride=(1, 1), padding=(1, 1), bias=False) ====> SHAPE: torch.Size([64, 64, 3, 3])\n",
      "CONV: Conv2d(64, 256, kernel_size=(1, 1), stride=(1, 1), bias=False) ====> SHAPE: torch.Size([256, 64, 1, 1])\n",
      "CONV: Conv2d(256, 64, kernel_size=(1, 1), stride=(1, 1), bias=False) ====> SHAPE: torch.Size([64, 256, 1, 1])\n",
      "CONV: Conv2d(64, 64, kernel_size=(3, 3), stride=(1, 1), padding=(1, 1), bias=False) ====> SHAPE: torch.Size([64, 64, 3, 3])\n",
      "CONV: Conv2d(64, 256, kernel_size=(1, 1), stride=(1, 1), bias=False) ====> SHAPE: torch.Size([256, 64, 1, 1])\n",
      "CONV: Conv2d(256, 64, kernel_size=(1, 1), stride=(1, 1), bias=False) ====> SHAPE: torch.Size([64, 256, 1, 1])\n",
      "CONV: Conv2d(64, 64, kernel_size=(3, 3), stride=(1, 1), padding=(1, 1), bias=False) ====> SHAPE: torch.Size([64, 64, 3, 3])\n",
      "CONV: Conv2d(64, 256, kernel_size=(1, 1), stride=(1, 1), bias=False) ====> SHAPE: torch.Size([256, 64, 1, 1])\n",
      "CONV: Conv2d(256, 128, kernel_size=(1, 1), stride=(1, 1), bias=False) ====> SHAPE: torch.Size([128, 256, 1, 1])\n",
      "CONV: Conv2d(128, 128, kernel_size=(3, 3), stride=(2, 2), padding=(1, 1), bias=False) ====> SHAPE: torch.Size([128, 128, 3, 3])\n",
      "CONV: Conv2d(128, 512, kernel_size=(1, 1), stride=(1, 1), bias=False) ====> SHAPE: torch.Size([512, 128, 1, 1])\n",
      "CONV: Conv2d(512, 128, kernel_size=(1, 1), stride=(1, 1), bias=False) ====> SHAPE: torch.Size([128, 512, 1, 1])\n",
      "CONV: Conv2d(128, 128, kernel_size=(3, 3), stride=(1, 1), padding=(1, 1), bias=False) ====> SHAPE: torch.Size([128, 128, 3, 3])\n",
      "CONV: Conv2d(128, 512, kernel_size=(1, 1), stride=(1, 1), bias=False) ====> SHAPE: torch.Size([512, 128, 1, 1])\n",
      "CONV: Conv2d(512, 128, kernel_size=(1, 1), stride=(1, 1), bias=False) ====> SHAPE: torch.Size([128, 512, 1, 1])\n",
      "CONV: Conv2d(128, 128, kernel_size=(3, 3), stride=(1, 1), padding=(1, 1), bias=False) ====> SHAPE: torch.Size([128, 128, 3, 3])\n",
      "CONV: Conv2d(128, 512, kernel_size=(1, 1), stride=(1, 1), bias=False) ====> SHAPE: torch.Size([512, 128, 1, 1])\n",
      "CONV: Conv2d(512, 128, kernel_size=(1, 1), stride=(1, 1), bias=False) ====> SHAPE: torch.Size([128, 512, 1, 1])\n",
      "CONV: Conv2d(128, 128, kernel_size=(3, 3), stride=(1, 1), padding=(1, 1), bias=False) ====> SHAPE: torch.Size([128, 128, 3, 3])\n",
      "CONV: Conv2d(128, 512, kernel_size=(1, 1), stride=(1, 1), bias=False) ====> SHAPE: torch.Size([512, 128, 1, 1])\n",
      "CONV: Conv2d(512, 256, kernel_size=(1, 1), stride=(1, 1), bias=False) ====> SHAPE: torch.Size([256, 512, 1, 1])\n",
      "CONV: Conv2d(256, 256, kernel_size=(3, 3), stride=(2, 2), padding=(1, 1), bias=False) ====> SHAPE: torch.Size([256, 256, 3, 3])\n",
      "CONV: Conv2d(256, 1024, kernel_size=(1, 1), stride=(1, 1), bias=False) ====> SHAPE: torch.Size([1024, 256, 1, 1])\n",
      "CONV: Conv2d(1024, 256, kernel_size=(1, 1), stride=(1, 1), bias=False) ====> SHAPE: torch.Size([256, 1024, 1, 1])\n",
      "CONV: Conv2d(256, 256, kernel_size=(3, 3), stride=(1, 1), padding=(1, 1), bias=False) ====> SHAPE: torch.Size([256, 256, 3, 3])\n",
      "CONV: Conv2d(256, 1024, kernel_size=(1, 1), stride=(1, 1), bias=False) ====> SHAPE: torch.Size([1024, 256, 1, 1])\n",
      "CONV: Conv2d(1024, 256, kernel_size=(1, 1), stride=(1, 1), bias=False) ====> SHAPE: torch.Size([256, 1024, 1, 1])\n",
      "CONV: Conv2d(256, 256, kernel_size=(3, 3), stride=(1, 1), padding=(1, 1), bias=False) ====> SHAPE: torch.Size([256, 256, 3, 3])\n",
      "CONV: Conv2d(256, 1024, kernel_size=(1, 1), stride=(1, 1), bias=False) ====> SHAPE: torch.Size([1024, 256, 1, 1])\n",
      "CONV: Conv2d(1024, 256, kernel_size=(1, 1), stride=(1, 1), bias=False) ====> SHAPE: torch.Size([256, 1024, 1, 1])\n",
      "CONV: Conv2d(256, 256, kernel_size=(3, 3), stride=(1, 1), padding=(1, 1), bias=False) ====> SHAPE: torch.Size([256, 256, 3, 3])\n",
      "CONV: Conv2d(256, 1024, kernel_size=(1, 1), stride=(1, 1), bias=False) ====> SHAPE: torch.Size([1024, 256, 1, 1])\n",
      "CONV: Conv2d(1024, 256, kernel_size=(1, 1), stride=(1, 1), bias=False) ====> SHAPE: torch.Size([256, 1024, 1, 1])\n",
      "CONV: Conv2d(256, 256, kernel_size=(3, 3), stride=(1, 1), padding=(1, 1), bias=False) ====> SHAPE: torch.Size([256, 256, 3, 3])\n",
      "CONV: Conv2d(256, 1024, kernel_size=(1, 1), stride=(1, 1), bias=False) ====> SHAPE: torch.Size([1024, 256, 1, 1])\n",
      "CONV: Conv2d(1024, 256, kernel_size=(1, 1), stride=(1, 1), bias=False) ====> SHAPE: torch.Size([256, 1024, 1, 1])\n",
      "CONV: Conv2d(256, 256, kernel_size=(3, 3), stride=(1, 1), padding=(1, 1), bias=False) ====> SHAPE: torch.Size([256, 256, 3, 3])\n",
      "CONV: Conv2d(256, 1024, kernel_size=(1, 1), stride=(1, 1), bias=False) ====> SHAPE: torch.Size([1024, 256, 1, 1])\n",
      "CONV: Conv2d(1024, 256, kernel_size=(1, 1), stride=(1, 1), bias=False) ====> SHAPE: torch.Size([256, 1024, 1, 1])\n",
      "CONV: Conv2d(256, 256, kernel_size=(3, 3), stride=(1, 1), padding=(1, 1), bias=False) ====> SHAPE: torch.Size([256, 256, 3, 3])\n",
      "CONV: Conv2d(256, 1024, kernel_size=(1, 1), stride=(1, 1), bias=False) ====> SHAPE: torch.Size([1024, 256, 1, 1])\n",
      "CONV: Conv2d(1024, 256, kernel_size=(1, 1), stride=(1, 1), bias=False) ====> SHAPE: torch.Size([256, 1024, 1, 1])\n",
      "CONV: Conv2d(256, 256, kernel_size=(3, 3), stride=(1, 1), padding=(1, 1), bias=False) ====> SHAPE: torch.Size([256, 256, 3, 3])\n",
      "CONV: Conv2d(256, 1024, kernel_size=(1, 1), stride=(1, 1), bias=False) ====> SHAPE: torch.Size([1024, 256, 1, 1])\n",
      "CONV: Conv2d(1024, 256, kernel_size=(1, 1), stride=(1, 1), bias=False) ====> SHAPE: torch.Size([256, 1024, 1, 1])\n",
      "CONV: Conv2d(256, 256, kernel_size=(3, 3), stride=(1, 1), padding=(1, 1), bias=False) ====> SHAPE: torch.Size([256, 256, 3, 3])\n",
      "CONV: Conv2d(256, 1024, kernel_size=(1, 1), stride=(1, 1), bias=False) ====> SHAPE: torch.Size([1024, 256, 1, 1])\n",
      "CONV: Conv2d(1024, 256, kernel_size=(1, 1), stride=(1, 1), bias=False) ====> SHAPE: torch.Size([256, 1024, 1, 1])\n",
      "CONV: Conv2d(256, 256, kernel_size=(3, 3), stride=(1, 1), padding=(1, 1), bias=False) ====> SHAPE: torch.Size([256, 256, 3, 3])\n",
      "CONV: Conv2d(256, 1024, kernel_size=(1, 1), stride=(1, 1), bias=False) ====> SHAPE: torch.Size([1024, 256, 1, 1])\n",
      "CONV: Conv2d(1024, 256, kernel_size=(1, 1), stride=(1, 1), bias=False) ====> SHAPE: torch.Size([256, 1024, 1, 1])\n",
      "CONV: Conv2d(256, 256, kernel_size=(3, 3), stride=(1, 1), padding=(1, 1), bias=False) ====> SHAPE: torch.Size([256, 256, 3, 3])\n",
      "CONV: Conv2d(256, 1024, kernel_size=(1, 1), stride=(1, 1), bias=False) ====> SHAPE: torch.Size([1024, 256, 1, 1])\n",
      "CONV: Conv2d(1024, 256, kernel_size=(1, 1), stride=(1, 1), bias=False) ====> SHAPE: torch.Size([256, 1024, 1, 1])\n",
      "CONV: Conv2d(256, 256, kernel_size=(3, 3), stride=(1, 1), padding=(1, 1), bias=False) ====> SHAPE: torch.Size([256, 256, 3, 3])\n",
      "CONV: Conv2d(256, 1024, kernel_size=(1, 1), stride=(1, 1), bias=False) ====> SHAPE: torch.Size([1024, 256, 1, 1])\n",
      "CONV: Conv2d(1024, 256, kernel_size=(1, 1), stride=(1, 1), bias=False) ====> SHAPE: torch.Size([256, 1024, 1, 1])\n",
      "CONV: Conv2d(256, 256, kernel_size=(3, 3), stride=(1, 1), padding=(1, 1), bias=False) ====> SHAPE: torch.Size([256, 256, 3, 3])\n",
      "CONV: Conv2d(256, 1024, kernel_size=(1, 1), stride=(1, 1), bias=False) ====> SHAPE: torch.Size([1024, 256, 1, 1])\n",
      "CONV: Conv2d(1024, 256, kernel_size=(1, 1), stride=(1, 1), bias=False) ====> SHAPE: torch.Size([256, 1024, 1, 1])\n",
      "CONV: Conv2d(256, 256, kernel_size=(3, 3), stride=(1, 1), padding=(1, 1), bias=False) ====> SHAPE: torch.Size([256, 256, 3, 3])\n",
      "CONV: Conv2d(256, 1024, kernel_size=(1, 1), stride=(1, 1), bias=False) ====> SHAPE: torch.Size([1024, 256, 1, 1])\n",
      "CONV: Conv2d(1024, 256, kernel_size=(1, 1), stride=(1, 1), bias=False) ====> SHAPE: torch.Size([256, 1024, 1, 1])\n",
      "CONV: Conv2d(256, 256, kernel_size=(3, 3), stride=(1, 1), padding=(1, 1), bias=False) ====> SHAPE: torch.Size([256, 256, 3, 3])\n",
      "CONV: Conv2d(256, 1024, kernel_size=(1, 1), stride=(1, 1), bias=False) ====> SHAPE: torch.Size([1024, 256, 1, 1])\n",
      "CONV: Conv2d(1024, 256, kernel_size=(1, 1), stride=(1, 1), bias=False) ====> SHAPE: torch.Size([256, 1024, 1, 1])\n",
      "CONV: Conv2d(256, 256, kernel_size=(3, 3), stride=(1, 1), padding=(1, 1), bias=False) ====> SHAPE: torch.Size([256, 256, 3, 3])\n",
      "CONV: Conv2d(256, 1024, kernel_size=(1, 1), stride=(1, 1), bias=False) ====> SHAPE: torch.Size([1024, 256, 1, 1])\n",
      "CONV: Conv2d(1024, 256, kernel_size=(1, 1), stride=(1, 1), bias=False) ====> SHAPE: torch.Size([256, 1024, 1, 1])\n",
      "CONV: Conv2d(256, 256, kernel_size=(3, 3), stride=(1, 1), padding=(1, 1), bias=False) ====> SHAPE: torch.Size([256, 256, 3, 3])\n",
      "CONV: Conv2d(256, 1024, kernel_size=(1, 1), stride=(1, 1), bias=False) ====> SHAPE: torch.Size([1024, 256, 1, 1])\n",
      "CONV: Conv2d(1024, 256, kernel_size=(1, 1), stride=(1, 1), bias=False) ====> SHAPE: torch.Size([256, 1024, 1, 1])\n",
      "CONV: Conv2d(256, 256, kernel_size=(3, 3), stride=(1, 1), padding=(1, 1), bias=False) ====> SHAPE: torch.Size([256, 256, 3, 3])\n",
      "CONV: Conv2d(256, 1024, kernel_size=(1, 1), stride=(1, 1), bias=False) ====> SHAPE: torch.Size([1024, 256, 1, 1])\n",
      "CONV: Conv2d(1024, 256, kernel_size=(1, 1), stride=(1, 1), bias=False) ====> SHAPE: torch.Size([256, 1024, 1, 1])\n",
      "CONV: Conv2d(256, 256, kernel_size=(3, 3), stride=(1, 1), padding=(1, 1), bias=False) ====> SHAPE: torch.Size([256, 256, 3, 3])\n",
      "CONV: Conv2d(256, 1024, kernel_size=(1, 1), stride=(1, 1), bias=False) ====> SHAPE: torch.Size([1024, 256, 1, 1])\n",
      "CONV: Conv2d(1024, 256, kernel_size=(1, 1), stride=(1, 1), bias=False) ====> SHAPE: torch.Size([256, 1024, 1, 1])\n",
      "CONV: Conv2d(256, 256, kernel_size=(3, 3), stride=(1, 1), padding=(1, 1), bias=False) ====> SHAPE: torch.Size([256, 256, 3, 3])\n",
      "CONV: Conv2d(256, 1024, kernel_size=(1, 1), stride=(1, 1), bias=False) ====> SHAPE: torch.Size([1024, 256, 1, 1])\n",
      "CONV: Conv2d(1024, 256, kernel_size=(1, 1), stride=(1, 1), bias=False) ====> SHAPE: torch.Size([256, 1024, 1, 1])\n",
      "CONV: Conv2d(256, 256, kernel_size=(3, 3), stride=(1, 1), padding=(1, 1), bias=False) ====> SHAPE: torch.Size([256, 256, 3, 3])\n",
      "CONV: Conv2d(256, 1024, kernel_size=(1, 1), stride=(1, 1), bias=False) ====> SHAPE: torch.Size([1024, 256, 1, 1])\n",
      "CONV: Conv2d(1024, 256, kernel_size=(1, 1), stride=(1, 1), bias=False) ====> SHAPE: torch.Size([256, 1024, 1, 1])\n",
      "CONV: Conv2d(256, 256, kernel_size=(3, 3), stride=(1, 1), padding=(1, 1), bias=False) ====> SHAPE: torch.Size([256, 256, 3, 3])\n",
      "CONV: Conv2d(256, 1024, kernel_size=(1, 1), stride=(1, 1), bias=False) ====> SHAPE: torch.Size([1024, 256, 1, 1])\n",
      "CONV: Conv2d(1024, 256, kernel_size=(1, 1), stride=(1, 1), bias=False) ====> SHAPE: torch.Size([256, 1024, 1, 1])\n",
      "CONV: Conv2d(256, 256, kernel_size=(3, 3), stride=(1, 1), padding=(1, 1), bias=False) ====> SHAPE: torch.Size([256, 256, 3, 3])\n",
      "CONV: Conv2d(256, 1024, kernel_size=(1, 1), stride=(1, 1), bias=False) ====> SHAPE: torch.Size([1024, 256, 1, 1])\n",
      "CONV: Conv2d(1024, 512, kernel_size=(1, 1), stride=(1, 1), bias=False) ====> SHAPE: torch.Size([512, 1024, 1, 1])\n",
      "CONV: Conv2d(512, 512, kernel_size=(3, 3), stride=(2, 2), padding=(1, 1), bias=False) ====> SHAPE: torch.Size([512, 512, 3, 3])\n",
      "CONV: Conv2d(512, 2048, kernel_size=(1, 1), stride=(1, 1), bias=False) ====> SHAPE: torch.Size([2048, 512, 1, 1])\n",
      "CONV: Conv2d(2048, 512, kernel_size=(1, 1), stride=(1, 1), bias=False) ====> SHAPE: torch.Size([512, 2048, 1, 1])\n",
      "CONV: Conv2d(512, 512, kernel_size=(3, 3), stride=(1, 1), padding=(1, 1), bias=False) ====> SHAPE: torch.Size([512, 512, 3, 3])\n",
      "CONV: Conv2d(512, 2048, kernel_size=(1, 1), stride=(1, 1), bias=False) ====> SHAPE: torch.Size([2048, 512, 1, 1])\n",
      "CONV: Conv2d(2048, 512, kernel_size=(1, 1), stride=(1, 1), bias=False) ====> SHAPE: torch.Size([512, 2048, 1, 1])\n",
      "CONV: Conv2d(512, 512, kernel_size=(3, 3), stride=(1, 1), padding=(1, 1), bias=False) ====> SHAPE: torch.Size([512, 512, 3, 3])\n",
      "CONV: Conv2d(512, 2048, kernel_size=(1, 1), stride=(1, 1), bias=False) ====> SHAPE: torch.Size([2048, 512, 1, 1])\n"
     ]
    }
   ],
   "source": [
    "for weight, conv in zip(model_weights, conv_layers):\n",
    "    # print(f\"WEIGHT: {weight} \\nSHAPE: {weight.shape}\")\n",
    "    print(f\"CONV: {conv} ====> SHAPE: {weight.shape}\")"
   ]
  },
  {
   "cell_type": "code",
   "execution_count": 8,
   "metadata": {
    "scrolled": true
   },
   "outputs": [
    {
     "name": "stdout",
     "output_type": "stream",
     "text": [
      "torch.Size([500, 3, 32, 32])\n",
      "torch.Size([500, 64, 16, 16])\n",
      "torch.Size([500, 64, 16, 16])\n",
      "torch.Size([500, 64, 16, 16])\n",
      "torch.Size([500, 256, 16, 16])\n",
      "torch.Size([500, 64, 16, 16])\n",
      "torch.Size([500, 64, 16, 16])\n",
      "torch.Size([500, 256, 16, 16])\n",
      "torch.Size([500, 64, 16, 16])\n",
      "torch.Size([500, 64, 16, 16])\n",
      "torch.Size([500, 256, 16, 16])\n",
      "torch.Size([500, 128, 16, 16])\n",
      "torch.Size([500, 128, 8, 8])\n",
      "torch.Size([500, 512, 8, 8])\n",
      "torch.Size([500, 128, 8, 8])\n",
      "torch.Size([500, 128, 8, 8])\n",
      "torch.Size([500, 512, 8, 8])\n",
      "torch.Size([500, 128, 8, 8])\n",
      "torch.Size([500, 128, 8, 8])\n",
      "torch.Size([500, 512, 8, 8])\n",
      "torch.Size([500, 128, 8, 8])\n",
      "torch.Size([500, 128, 8, 8])\n",
      "torch.Size([500, 512, 8, 8])\n",
      "torch.Size([500, 256, 8, 8])\n",
      "torch.Size([500, 256, 4, 4])\n",
      "torch.Size([500, 1024, 4, 4])\n",
      "torch.Size([500, 256, 4, 4])\n",
      "torch.Size([500, 256, 4, 4])\n",
      "torch.Size([500, 1024, 4, 4])\n",
      "torch.Size([500, 256, 4, 4])\n",
      "torch.Size([500, 256, 4, 4])\n",
      "torch.Size([500, 1024, 4, 4])\n",
      "torch.Size([500, 256, 4, 4])\n",
      "torch.Size([500, 256, 4, 4])\n",
      "torch.Size([500, 1024, 4, 4])\n",
      "torch.Size([500, 256, 4, 4])\n",
      "torch.Size([500, 256, 4, 4])\n",
      "torch.Size([500, 1024, 4, 4])\n",
      "torch.Size([500, 256, 4, 4])\n",
      "torch.Size([500, 256, 4, 4])\n",
      "torch.Size([500, 1024, 4, 4])\n",
      "torch.Size([500, 256, 4, 4])\n",
      "torch.Size([500, 256, 4, 4])\n",
      "torch.Size([500, 1024, 4, 4])\n",
      "torch.Size([500, 256, 4, 4])\n",
      "torch.Size([500, 256, 4, 4])\n",
      "torch.Size([500, 1024, 4, 4])\n",
      "torch.Size([500, 256, 4, 4])\n",
      "torch.Size([500, 256, 4, 4])\n",
      "torch.Size([500, 1024, 4, 4])\n",
      "torch.Size([500, 256, 4, 4])\n",
      "torch.Size([500, 256, 4, 4])\n",
      "torch.Size([500, 1024, 4, 4])\n",
      "torch.Size([500, 256, 4, 4])\n",
      "torch.Size([500, 256, 4, 4])\n",
      "torch.Size([500, 1024, 4, 4])\n",
      "torch.Size([500, 256, 4, 4])\n",
      "torch.Size([500, 256, 4, 4])\n",
      "torch.Size([500, 1024, 4, 4])\n",
      "torch.Size([500, 256, 4, 4])\n",
      "torch.Size([500, 256, 4, 4])\n",
      "torch.Size([500, 1024, 4, 4])\n",
      "torch.Size([500, 256, 4, 4])\n",
      "torch.Size([500, 256, 4, 4])\n",
      "torch.Size([500, 1024, 4, 4])\n",
      "torch.Size([500, 256, 4, 4])\n",
      "torch.Size([500, 256, 4, 4])\n",
      "torch.Size([500, 1024, 4, 4])\n",
      "torch.Size([500, 256, 4, 4])\n",
      "torch.Size([500, 256, 4, 4])\n",
      "torch.Size([500, 1024, 4, 4])\n",
      "torch.Size([500, 256, 4, 4])\n",
      "torch.Size([500, 256, 4, 4])\n",
      "torch.Size([500, 1024, 4, 4])\n",
      "torch.Size([500, 256, 4, 4])\n",
      "torch.Size([500, 256, 4, 4])\n",
      "torch.Size([500, 1024, 4, 4])\n",
      "torch.Size([500, 256, 4, 4])\n",
      "torch.Size([500, 256, 4, 4])\n",
      "torch.Size([500, 1024, 4, 4])\n",
      "torch.Size([500, 256, 4, 4])\n",
      "torch.Size([500, 256, 4, 4])\n",
      "torch.Size([500, 1024, 4, 4])\n",
      "torch.Size([500, 256, 4, 4])\n",
      "torch.Size([500, 256, 4, 4])\n",
      "torch.Size([500, 1024, 4, 4])\n",
      "torch.Size([500, 256, 4, 4])\n",
      "torch.Size([500, 256, 4, 4])\n",
      "torch.Size([500, 1024, 4, 4])\n",
      "torch.Size([500, 256, 4, 4])\n",
      "torch.Size([500, 256, 4, 4])\n",
      "torch.Size([500, 1024, 4, 4])\n",
      "torch.Size([500, 512, 4, 4])\n",
      "torch.Size([500, 512, 2, 2])\n",
      "torch.Size([500, 2048, 2, 2])\n",
      "torch.Size([500, 512, 2, 2])\n",
      "torch.Size([500, 512, 2, 2])\n",
      "torch.Size([500, 2048, 2, 2])\n",
      "torch.Size([500, 512, 2, 2])\n",
      "torch.Size([500, 512, 2, 2])\n",
      "torch.Size([500, 2048, 2, 2])\n",
      "torch.Size([500, 2048])\n"
     ]
    }
   ],
   "source": [
    "print(data.shape)\n",
    "results = [conv_layers[0](data)]\n",
    "print(results[0].shape)\n",
    "for i in range(1, len(conv_layers)):\n",
    "    # pass the result from the last layer to the next layer\n",
    "    results.append(conv_layers[i](results[-1]))\n",
    "    print(results[-1].shape)\n",
    "# make a copy of the `results`plt.scatter(ty,[i for i in range(len(ty))])\n",
    "# outputs = results[-1]#.view(results[-1].shape[0],-1)\n",
    "# print(outputs.shape)\n",
    "m = nn.AvgPool2d(2, stride=2)\n",
    "output = m(results[-1])\n",
    "outputs = output.view(output.shape[0],-1)\n",
    "print(outputs.shape)\n",
    "out = outputs.cpu().detach().numpy()"
   ]
  },
  {
   "cell_type": "code",
   "execution_count": 9,
   "metadata": {},
   "outputs": [
    {
     "name": "stdout",
     "output_type": "stream",
     "text": [
      "(500, 2048)\n"
     ]
    }
   ],
   "source": [
    "print(out.shape)"
   ]
  },
  {
   "cell_type": "code",
   "execution_count": 10,
   "metadata": {},
   "outputs": [],
   "source": [
    "from sklearn.cluster import KMeans\n",
    "kmeans = KMeans(n_clusters=10, random_state=0).fit(out)\n",
    "lab = kmeans.predict(out)"
   ]
  },
  {
   "cell_type": "code",
   "execution_count": 11,
   "metadata": {},
   "outputs": [
    {
     "name": "stdout",
     "output_type": "stream",
     "text": [
      "[1 4 8 1 4 5 3 8 1 0 9 8 8 4 8 6 8 1 0 1 7 7 0 8 8 7 1 2 8 8 1 7 4 8 8 9 9\n",
      " 4 1 4 6 9 8 4 2 1 7 9 4 1 3 2 7 8 7 4 4 8 6 0 3 8 7 3 9 0 4 5 4 7 7 4 5 7\n",
      " 5 7 0 9 6 8 1 7 4 9 6 5 5 6 6 4 3 2 2 0 6 9 7 1 8 7 4 4 5 6 7 5 8 1 7 7 8\n",
      " 8 7 7 8 2 4 1 0 4 8 0 0 1 0 0 7 9 5 5 5 4 0 4 7 8 5 7 1 9 1 4 7 7 8 6 7 8\n",
      " 0 1 8 8 6 9 0 5 7 0 2 8 0 5 7 8 0 4 6 6 3 6 6 3 0 6 4 1 4 0 6 4 1 1 7 4 7\n",
      " 6 4 0 4 4 0 1 5 7 1 0 9 5 4 5 1 0 4 5 6 4 8 1 6 8 8 6 4 0 7 8 6 5 8 2 1 0\n",
      " 5 4 0 4 0 8 7 8 1 2 8 8 4 5 1 1 2 0 8 4 7 9 1 8 8 7 7 8 0 7 8 4 7 0 8 7 0\n",
      " 7 4 0 6 8 8 8 8 7 0 0 9 4 3 2 7 1 9 1 0 1 4 8 1 5 8 1 0 2 2 2 5 8 6 4 2 8\n",
      " 8 8 7 1 7 7 2 9 1 4 0 7 6 0 7 8 4 4 0 2 4 7 4 8 7 5 7 4 3 5 7 7 8 7 4 7 0\n",
      " 7 6 0 9 4 0 7 1 8 1 9 7 1 4 8 7 5 1 3 4 7 7 7 7 9 5 8 2 4 6 7 6 3 1 4 6 1\n",
      " 7 8 2 0 4 1 7 4 3 8 7 8 5 1 5 0 7 8 4 5 4 4 1 4 7 4 1 5 4 1 2 3 0 5 0 6 7\n",
      " 2 9 7 5 2 7 0 4 1 5 5 8 4 6 1 4 8 8 5 7 7 9 8 7 0 3 4 8 6 7 2 1 6 6 1 8 7\n",
      " 0 8 7 7 0 8 6 2 7 7 7 5 4 6 0 4 8 1 5 5 0 7 6 5 4 8 5 9 8 1 0 7 1 4 4 0 4\n",
      " 1 3 4 9 1 4 7 4 9 6 6 1 1 7 8 0 1 0 1]\n"
     ]
    }
   ],
   "source": [
    "# cents = kmeans.cluster_centers_\n",
    "# plt.scatter(kmeans.cluster_centers_[0], kmeans.cluster_centers_[1])\n",
    "# plt.plot()\n",
    "print(lab)"
   ]
  },
  {
   "cell_type": "code",
   "execution_count": 12,
   "metadata": {
    "scrolled": false
   },
   "outputs": [],
   "source": [
    "import numpy as np\n",
    "from matplotlib import cm\n",
    "from sklearn.manifold import TSNE\n",
    "tsne = TSNE(n_components=2).fit_transform(out)\n"
   ]
  },
  {
   "cell_type": "code",
   "execution_count": 13,
   "metadata": {},
   "outputs": [
    {
     "name": "stdout",
     "output_type": "stream",
     "text": [
      "(500,) (500,)\n"
     ]
    }
   ],
   "source": [
    "import matplotlib.pyplot as plt\n",
    "# scale and move the coordinates so they fit [0; 1] range\n",
    "def scale_to_01_range(x):\n",
    "    # compute the distribution range\n",
    "    value_range = (np.max(x) - np.min(x))\n",
    "\n",
    "    # move the distribution so that it starts from zero_\n",
    "    # by extracting the minimal value from all its values\n",
    "    starts_from_zero = x - np.min(x)\n",
    "\n",
    "    # make the distribution fit [0; 1] by dividing by its range\n",
    "    return starts_from_zero / value_range\n",
    "\n",
    "# extract x and y coordinates representing the positions oplt.scatter(ty,[i for i in range(len(ty))])f the images on T-SNE plot\n",
    "tx = tsne[:, 0]\n",
    "ty = tsne[:, 1]\n",
    "\n",
    "# tx = scale_to_01_range(tx)\n",
    "# ty = scale_to_01_range(ty)\n",
    "print(tx.shape, ty.shape)"
   ]
  },
  {
   "cell_type": "code",
   "execution_count": 14,
   "metadata": {},
   "outputs": [],
   "source": [
    "# import matplotlib.pyplot as plt\n",
    "# plt.scatter(tx,[i for i in range(len(tx))])\n",
    "# plt.scatter(ty,[i for i in range(len(ty))])\n",
    "# plt.show()"
   ]
  },
  {
   "cell_type": "code",
   "execution_count": 15,
   "metadata": {},
   "outputs": [],
   "source": [
    "colors_per_class = {\n",
    "    1 : [254, 202, 87],\n",
    "    2 : [255, 107, 107],\n",
    "    3 : [10, 189, 227],\n",
    "    4 : [255, 159, 243],\n",
    "    5 : [16, 172, 132],\n",
    "    6 : [128, 80, 128],\n",
    "    7 : [87, 101, 116],\n",
    "    8 : [52, 31, 151],\n",
    "    9 : [0, 0, 0],\n",
    "    0 : [100, 100, 255],\n",
    "}"
   ]
  },
  {
   "cell_type": "code",
   "execution_count": 16,
   "metadata": {},
   "outputs": [
    {
     "data": {
      "image/png": "[encoded data removed]",
      "text/plain": [
       "<Figure size 720x720 with 1 Axes>"
      ]
     },
     "metadata": {
      "needs_background": "light"
     },
     "output_type": "display_data"
    }
   ],
   "source": [
    "import matplotlib.pyplot as plt\n",
    "\n",
    "# initialize a matplotlib plot\n",
    "fig = plt.figure(figsize=(10,10))\n",
    "ax = fig.add_subplot(111)\n",
    "\n",
    "# colors_per_class = range(10)\n",
    "# for every class, we'll add a scatter plot separately\n",
    "for label in colors_per_class:\n",
    "    \n",
    "#     print(label)\n",
    "    # find the samples of the current class in the data\n",
    "    indices = [i for i, l in enumerate(lab) if l == label]\n",
    "#     print(indices)\n",
    "    # extract the coordinates of the points of this class only\n",
    "    current_tx = np.take(tx, indices)\n",
    "    current_ty = np.take(ty, indices)\n",
    "\n",
    "    # convert the class color to matplotlib formatprint(lab.shape)\n",
    "    color = np.array(colors_per_class[label], dtype=np.float) / 255\n",
    "\n",
    "    # add a scatter plot with the corresponding color akmeans.cluster_centers_nd label\n",
    "    ax.scatter(current_tx, current_ty, color=color, label=label)\n",
    "\n",
    "# build a legend using the labels we set previously\n",
    "ax.legend(loc='best')\n",
    "\n",
    "# finally, show the plot\n",
    "plt.show()"
   ]
  },
  {
   "cell_type": "code",
   "execution_count": null,
   "metadata": {},
   "outputs": [],
   "source": []
  }
 ],
 "metadata": {
  "kernelspec": {
   "display_name": "Python 3",
   "language": "python",
   "name": "python3"
  },
  "language_info": {
   "codemirror_mode": {
    "name": "ipython",
    "version": 3
   },
   "file_extension": ".py",
   "mimetype": "text/x-python",
   "name": "python",
   "nbconvert_exporter": "python",
   "pygments_lexer": "ipython3",
   "version": "3.8.3"
  }
 },
 "nbformat": 4,
 "nbformat_minor": 4
}
